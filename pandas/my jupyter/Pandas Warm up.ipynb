{
 "cells": [
  {
   "cell_type": "markdown",
   "id": "0312ff4e",
   "metadata": {},
   "source": [
    "# Introduction to Panda"
   ]
  },
  {
   "cell_type": "code",
   "execution_count": 67,
   "id": "62d3b427",
   "metadata": {},
   "outputs": [],
   "source": [
    "import pandas as pd\n",
    "import numpy as np\n",
    "import matplotlib.pyplot as plt"
   ]
  },
  {
   "cell_type": "code",
   "execution_count": 3,
   "id": "682759da",
   "metadata": {},
   "outputs": [
    {
     "data": {
      "text/html": [
       "<div>\n",
       "<style scoped>\n",
       "    .dataframe tbody tr th:only-of-type {\n",
       "        vertical-align: middle;\n",
       "    }\n",
       "\n",
       "    .dataframe tbody tr th {\n",
       "        vertical-align: top;\n",
       "    }\n",
       "\n",
       "    .dataframe thead th {\n",
       "        text-align: right;\n",
       "    }\n",
       "</style>\n",
       "<table border=\"1\" class=\"dataframe\">\n",
       "  <thead>\n",
       "    <tr style=\"text-align: right;\">\n",
       "      <th></th>\n",
       "      <th>0</th>\n",
       "    </tr>\n",
       "  </thead>\n",
       "  <tbody>\n",
       "    <tr>\n",
       "      <th>0</th>\n",
       "      <td>1</td>\n",
       "    </tr>\n",
       "    <tr>\n",
       "      <th>1</th>\n",
       "      <td>2</td>\n",
       "    </tr>\n",
       "    <tr>\n",
       "      <th>2</th>\n",
       "      <td>3</td>\n",
       "    </tr>\n",
       "    <tr>\n",
       "      <th>3</th>\n",
       "      <td>4</td>\n",
       "    </tr>\n",
       "  </tbody>\n",
       "</table>\n",
       "</div>"
      ],
      "text/plain": [
       "   0\n",
       "0  1\n",
       "1  2\n",
       "2  3\n",
       "3  4"
      ]
     },
     "execution_count": 3,
     "metadata": {},
     "output_type": "execute_result"
    }
   ],
   "source": [
    "data = [1,2,3,4]\n",
    "pd.DataFrame(data)"
   ]
  },
  {
   "cell_type": "code",
   "execution_count": 7,
   "id": "108a6998",
   "metadata": {},
   "outputs": [],
   "source": [
    "data = {\n",
    "    \"a\": [1,2,3],\n",
    "    \"b\":[2.5,.7,5.6],\n",
    "    \"c\":[\"yey\", \"uhu\", \"blbl\"],\n",
    "    \"d\":42\n",
    "} #python dictionary"
   ]
  },
  {
   "cell_type": "code",
   "execution_count": 8,
   "id": "0be63a46",
   "metadata": {},
   "outputs": [
    {
     "data": {
      "text/html": [
       "<div>\n",
       "<style scoped>\n",
       "    .dataframe tbody tr th:only-of-type {\n",
       "        vertical-align: middle;\n",
       "    }\n",
       "\n",
       "    .dataframe tbody tr th {\n",
       "        vertical-align: top;\n",
       "    }\n",
       "\n",
       "    .dataframe thead th {\n",
       "        text-align: right;\n",
       "    }\n",
       "</style>\n",
       "<table border=\"1\" class=\"dataframe\">\n",
       "  <thead>\n",
       "    <tr style=\"text-align: right;\">\n",
       "      <th></th>\n",
       "      <th>a</th>\n",
       "      <th>b</th>\n",
       "      <th>c</th>\n",
       "      <th>d</th>\n",
       "    </tr>\n",
       "  </thead>\n",
       "  <tbody>\n",
       "    <tr>\n",
       "      <th>0</th>\n",
       "      <td>1</td>\n",
       "      <td>2.5</td>\n",
       "      <td>yey</td>\n",
       "      <td>42</td>\n",
       "    </tr>\n",
       "    <tr>\n",
       "      <th>1</th>\n",
       "      <td>2</td>\n",
       "      <td>0.7</td>\n",
       "      <td>uhu</td>\n",
       "      <td>42</td>\n",
       "    </tr>\n",
       "    <tr>\n",
       "      <th>2</th>\n",
       "      <td>3</td>\n",
       "      <td>5.6</td>\n",
       "      <td>blbl</td>\n",
       "      <td>42</td>\n",
       "    </tr>\n",
       "  </tbody>\n",
       "</table>\n",
       "</div>"
      ],
      "text/plain": [
       "   a    b     c   d\n",
       "0  1  2.5   yey  42\n",
       "1  2  0.7   uhu  42\n",
       "2  3  5.6  blbl  42"
      ]
     },
     "execution_count": 8,
     "metadata": {},
     "output_type": "execute_result"
    }
   ],
   "source": [
    "df = pd.DataFrame(data)\n",
    "df\n",
    "#0,1,2 row index, a,b,c column index"
   ]
  },
  {
   "cell_type": "code",
   "execution_count": 9,
   "id": "dfc3d169",
   "metadata": {},
   "outputs": [
    {
     "data": {
      "text/plain": [
       "pandas.core.frame.DataFrame"
      ]
     },
     "execution_count": 9,
     "metadata": {},
     "output_type": "execute_result"
    }
   ],
   "source": [
    "type(df)"
   ]
  },
  {
   "cell_type": "code",
   "execution_count": 10,
   "id": "7a2e88a3",
   "metadata": {},
   "outputs": [
    {
     "data": {
      "text/plain": [
       "0    1\n",
       "1    2\n",
       "2    3\n",
       "Name: a, dtype: int64"
      ]
     },
     "execution_count": 10,
     "metadata": {},
     "output_type": "execute_result"
    }
   ],
   "source": [
    "#access to the eleents of the dictionary\n",
    "df[\"a\"]"
   ]
  },
  {
   "cell_type": "code",
   "execution_count": 11,
   "id": "aec0550e",
   "metadata": {},
   "outputs": [
    {
     "data": {
      "text/plain": [
       "pandas.core.series.Series"
      ]
     },
     "execution_count": 11,
     "metadata": {},
     "output_type": "execute_result"
    }
   ],
   "source": [
    "type(df[\"a\"])"
   ]
  },
  {
   "cell_type": "markdown",
   "id": "81436103",
   "metadata": {},
   "source": [
    "we see that we have no longer a DataFrame but a Series. Actually it behaves like a numpy array"
   ]
  },
  {
   "cell_type": "code",
   "execution_count": 12,
   "id": "021443f7",
   "metadata": {},
   "outputs": [
    {
     "data": {
      "text/plain": [
       "0    10\n",
       "1    20\n",
       "2    30\n",
       "Name: a, dtype: int64"
      ]
     },
     "execution_count": 12,
     "metadata": {},
     "output_type": "execute_result"
    }
   ],
   "source": [
    "df[\"a\"]*10"
   ]
  },
  {
   "cell_type": "code",
   "execution_count": 15,
   "id": "7ba56afd",
   "metadata": {},
   "outputs": [
    {
     "data": {
      "text/plain": [
       "0    0.540302\n",
       "1   -0.416147\n",
       "2   -0.989992\n",
       "Name: a, dtype: float64"
      ]
     },
     "execution_count": 15,
     "metadata": {},
     "output_type": "execute_result"
    }
   ],
   "source": [
    "np.cos(df[\"a\"])"
   ]
  },
  {
   "cell_type": "code",
   "execution_count": 17,
   "id": "bb524665",
   "metadata": {},
   "outputs": [
    {
     "data": {
      "text/plain": [
       "0    9\n",
       "1    6\n",
       "2    6\n",
       "3    8\n",
       "4    5\n",
       "dtype: int64"
      ]
     },
     "execution_count": 17,
     "metadata": {},
     "output_type": "execute_result"
    }
   ],
   "source": [
    "#series of random integers\n",
    "#initialize random number generator\n",
    "rng = np.random.default_rng(7)\n",
    "\n",
    "s = pd.Series(rng.integers(0, 10, 5))\n",
    "s"
   ]
  },
  {
   "cell_type": "code",
   "execution_count": 18,
   "id": "cebab05c",
   "metadata": {},
   "outputs": [
    {
     "data": {
      "text/plain": [
       "4    5\n",
       "1    6\n",
       "2    6\n",
       "3    8\n",
       "0    9\n",
       "dtype: int64"
      ]
     },
     "execution_count": 18,
     "metadata": {},
     "output_type": "execute_result"
    }
   ],
   "source": [
    "s.sort_values() #sort the values, plus the indices are still attached to the datas"
   ]
  },
  {
   "cell_type": "code",
   "execution_count": 19,
   "id": "2704bdac",
   "metadata": {},
   "outputs": [
    {
     "data": {
      "text/plain": [
       "0    81\n",
       "1    36\n",
       "2    36\n",
       "3    64\n",
       "4    25\n",
       "dtype: int64"
      ]
     },
     "execution_count": 19,
     "metadata": {},
     "output_type": "execute_result"
    }
   ],
   "source": [
    "s * s.sort_values()"
   ]
  },
  {
   "cell_type": "markdown",
   "id": "a6878547",
   "metadata": {},
   "source": [
    "pandas makes sure you multiply the element zero with the corresponding zero (that now has changed position du eto the sorting)"
   ]
  },
  {
   "cell_type": "code",
   "execution_count": 23,
   "id": "34e060a7",
   "metadata": {},
   "outputs": [
    {
     "data": {
      "text/plain": [
       "0    5\n",
       "1    6\n",
       "2    6\n",
       "3    8\n",
       "4    9\n",
       "dtype: int64"
      ]
     },
     "execution_count": 23,
     "metadata": {},
     "output_type": "execute_result"
    }
   ],
   "source": [
    "s.sort_values().reset_index(drop=True)"
   ]
  },
  {
   "cell_type": "markdown",
   "id": "ad592f8c",
   "metadata": {},
   "source": [
    "the reset index prevents the indices to be attached to the datas, so the multiplication by s is different"
   ]
  },
  {
   "cell_type": "code",
   "execution_count": 24,
   "id": "0579b974",
   "metadata": {},
   "outputs": [
    {
     "data": {
      "text/plain": [
       "0    45\n",
       "1    36\n",
       "2    36\n",
       "3    64\n",
       "4    45\n",
       "dtype: int64"
      ]
     },
     "execution_count": 24,
     "metadata": {},
     "output_type": "execute_result"
    }
   ],
   "source": [
    "s*s.sort_values().reset_index(drop=True)"
   ]
  },
  {
   "cell_type": "code",
   "execution_count": 26,
   "id": "f4c19fb6",
   "metadata": {},
   "outputs": [
    {
     "data": {
      "text/plain": [
       "a      int64\n",
       "b    float64\n",
       "c     object\n",
       "d      int64\n",
       "dtype: object"
      ]
     },
     "execution_count": 26,
     "metadata": {},
     "output_type": "execute_result"
    }
   ],
   "source": [
    "df.dtypes #lists the types of the dataframe\n",
    "#the \"object\" means in the place there is a pointer to the variable"
   ]
  },
  {
   "cell_type": "code",
   "execution_count": 27,
   "id": "10bb51f2",
   "metadata": {},
   "outputs": [
    {
     "data": {
      "text/plain": [
       "(3, 4)"
      ]
     },
     "execution_count": 27,
     "metadata": {},
     "output_type": "execute_result"
    }
   ],
   "source": [
    "df.shape"
   ]
  },
  {
   "cell_type": "markdown",
   "id": "7281f0eb",
   "metadata": {},
   "source": [
    "### Useful functions\n",
    "Head: shows only the first few entries(you can specify how many)"
   ]
  },
  {
   "cell_type": "code",
   "execution_count": 28,
   "id": "9e7a5555",
   "metadata": {},
   "outputs": [
    {
     "data": {
      "text/html": [
       "<div>\n",
       "<style scoped>\n",
       "    .dataframe tbody tr th:only-of-type {\n",
       "        vertical-align: middle;\n",
       "    }\n",
       "\n",
       "    .dataframe tbody tr th {\n",
       "        vertical-align: top;\n",
       "    }\n",
       "\n",
       "    .dataframe thead th {\n",
       "        text-align: right;\n",
       "    }\n",
       "</style>\n",
       "<table border=\"1\" class=\"dataframe\">\n",
       "  <thead>\n",
       "    <tr style=\"text-align: right;\">\n",
       "      <th></th>\n",
       "      <th>a</th>\n",
       "      <th>b</th>\n",
       "      <th>c</th>\n",
       "      <th>d</th>\n",
       "    </tr>\n",
       "  </thead>\n",
       "  <tbody>\n",
       "    <tr>\n",
       "      <th>0</th>\n",
       "      <td>1</td>\n",
       "      <td>2.5</td>\n",
       "      <td>yey</td>\n",
       "      <td>42</td>\n",
       "    </tr>\n",
       "    <tr>\n",
       "      <th>1</th>\n",
       "      <td>2</td>\n",
       "      <td>0.7</td>\n",
       "      <td>uhu</td>\n",
       "      <td>42</td>\n",
       "    </tr>\n",
       "    <tr>\n",
       "      <th>2</th>\n",
       "      <td>3</td>\n",
       "      <td>5.6</td>\n",
       "      <td>blbl</td>\n",
       "      <td>42</td>\n",
       "    </tr>\n",
       "  </tbody>\n",
       "</table>\n",
       "</div>"
      ],
      "text/plain": [
       "   a    b     c   d\n",
       "0  1  2.5   yey  42\n",
       "1  2  0.7   uhu  42\n",
       "2  3  5.6  blbl  42"
      ]
     },
     "execution_count": 28,
     "metadata": {},
     "output_type": "execute_result"
    }
   ],
   "source": [
    "df.head()"
   ]
  },
  {
   "cell_type": "code",
   "execution_count": 30,
   "id": "922b431d",
   "metadata": {},
   "outputs": [
    {
     "data": {
      "text/html": [
       "<div>\n",
       "<style scoped>\n",
       "    .dataframe tbody tr th:only-of-type {\n",
       "        vertical-align: middle;\n",
       "    }\n",
       "\n",
       "    .dataframe tbody tr th {\n",
       "        vertical-align: top;\n",
       "    }\n",
       "\n",
       "    .dataframe thead th {\n",
       "        text-align: right;\n",
       "    }\n",
       "</style>\n",
       "<table border=\"1\" class=\"dataframe\">\n",
       "  <thead>\n",
       "    <tr style=\"text-align: right;\">\n",
       "      <th></th>\n",
       "      <th>a</th>\n",
       "      <th>b</th>\n",
       "      <th>c</th>\n",
       "      <th>d</th>\n",
       "    </tr>\n",
       "  </thead>\n",
       "  <tbody>\n",
       "    <tr>\n",
       "      <th>0</th>\n",
       "      <td>1</td>\n",
       "      <td>2.5</td>\n",
       "      <td>yey</td>\n",
       "      <td>42</td>\n",
       "    </tr>\n",
       "    <tr>\n",
       "      <th>1</th>\n",
       "      <td>2</td>\n",
       "      <td>0.7</td>\n",
       "      <td>uhu</td>\n",
       "      <td>42</td>\n",
       "    </tr>\n",
       "  </tbody>\n",
       "</table>\n",
       "</div>"
      ],
      "text/plain": [
       "   a    b    c   d\n",
       "0  1  2.5  yey  42\n",
       "1  2  0.7  uhu  42"
      ]
     },
     "execution_count": 30,
     "metadata": {},
     "output_type": "execute_result"
    }
   ],
   "source": [
    "df.head(2)"
   ]
  },
  {
   "cell_type": "markdown",
   "id": "9e746356",
   "metadata": {},
   "source": [
    "Describe: describes the datas inside"
   ]
  },
  {
   "cell_type": "code",
   "execution_count": 31,
   "id": "f6175e93",
   "metadata": {},
   "outputs": [
    {
     "data": {
      "text/html": [
       "<div>\n",
       "<style scoped>\n",
       "    .dataframe tbody tr th:only-of-type {\n",
       "        vertical-align: middle;\n",
       "    }\n",
       "\n",
       "    .dataframe tbody tr th {\n",
       "        vertical-align: top;\n",
       "    }\n",
       "\n",
       "    .dataframe thead th {\n",
       "        text-align: right;\n",
       "    }\n",
       "</style>\n",
       "<table border=\"1\" class=\"dataframe\">\n",
       "  <thead>\n",
       "    <tr style=\"text-align: right;\">\n",
       "      <th></th>\n",
       "      <th>a</th>\n",
       "      <th>b</th>\n",
       "      <th>d</th>\n",
       "    </tr>\n",
       "  </thead>\n",
       "  <tbody>\n",
       "    <tr>\n",
       "      <th>count</th>\n",
       "      <td>3.0</td>\n",
       "      <td>3.000000</td>\n",
       "      <td>3.0</td>\n",
       "    </tr>\n",
       "    <tr>\n",
       "      <th>mean</th>\n",
       "      <td>2.0</td>\n",
       "      <td>2.933333</td>\n",
       "      <td>42.0</td>\n",
       "    </tr>\n",
       "    <tr>\n",
       "      <th>std</th>\n",
       "      <td>1.0</td>\n",
       "      <td>2.478575</td>\n",
       "      <td>0.0</td>\n",
       "    </tr>\n",
       "    <tr>\n",
       "      <th>min</th>\n",
       "      <td>1.0</td>\n",
       "      <td>0.700000</td>\n",
       "      <td>42.0</td>\n",
       "    </tr>\n",
       "    <tr>\n",
       "      <th>25%</th>\n",
       "      <td>1.5</td>\n",
       "      <td>1.600000</td>\n",
       "      <td>42.0</td>\n",
       "    </tr>\n",
       "    <tr>\n",
       "      <th>50%</th>\n",
       "      <td>2.0</td>\n",
       "      <td>2.500000</td>\n",
       "      <td>42.0</td>\n",
       "    </tr>\n",
       "    <tr>\n",
       "      <th>75%</th>\n",
       "      <td>2.5</td>\n",
       "      <td>4.050000</td>\n",
       "      <td>42.0</td>\n",
       "    </tr>\n",
       "    <tr>\n",
       "      <th>max</th>\n",
       "      <td>3.0</td>\n",
       "      <td>5.600000</td>\n",
       "      <td>42.0</td>\n",
       "    </tr>\n",
       "  </tbody>\n",
       "</table>\n",
       "</div>"
      ],
      "text/plain": [
       "         a         b     d\n",
       "count  3.0  3.000000   3.0\n",
       "mean   2.0  2.933333  42.0\n",
       "std    1.0  2.478575   0.0\n",
       "min    1.0  0.700000  42.0\n",
       "25%    1.5  1.600000  42.0\n",
       "50%    2.0  2.500000  42.0\n",
       "75%    2.5  4.050000  42.0\n",
       "max    3.0  5.600000  42.0"
      ]
     },
     "execution_count": 31,
     "metadata": {},
     "output_type": "execute_result"
    }
   ],
   "source": [
    "df.describe()"
   ]
  },
  {
   "cell_type": "markdown",
   "id": "970c4bdb",
   "metadata": {},
   "source": [
    "## Slicing\n",
    "It's a bit different from numpy, you do not slice directly... we have [], not ()"
   ]
  },
  {
   "cell_type": "code",
   "execution_count": 32,
   "id": "37f89ddb",
   "metadata": {},
   "outputs": [
    {
     "data": {
      "text/html": [
       "<div>\n",
       "<style scoped>\n",
       "    .dataframe tbody tr th:only-of-type {\n",
       "        vertical-align: middle;\n",
       "    }\n",
       "\n",
       "    .dataframe tbody tr th {\n",
       "        vertical-align: top;\n",
       "    }\n",
       "\n",
       "    .dataframe thead th {\n",
       "        text-align: right;\n",
       "    }\n",
       "</style>\n",
       "<table border=\"1\" class=\"dataframe\">\n",
       "  <thead>\n",
       "    <tr style=\"text-align: right;\">\n",
       "      <th></th>\n",
       "      <th>a</th>\n",
       "      <th>b</th>\n",
       "      <th>c</th>\n",
       "      <th>d</th>\n",
       "    </tr>\n",
       "  </thead>\n",
       "  <tbody>\n",
       "    <tr>\n",
       "      <th>0</th>\n",
       "      <td>1</td>\n",
       "      <td>2.5</td>\n",
       "      <td>yey</td>\n",
       "      <td>42</td>\n",
       "    </tr>\n",
       "    <tr>\n",
       "      <th>1</th>\n",
       "      <td>2</td>\n",
       "      <td>0.7</td>\n",
       "      <td>uhu</td>\n",
       "      <td>42</td>\n",
       "    </tr>\n",
       "    <tr>\n",
       "      <th>2</th>\n",
       "      <td>3</td>\n",
       "      <td>5.6</td>\n",
       "      <td>blbl</td>\n",
       "      <td>42</td>\n",
       "    </tr>\n",
       "  </tbody>\n",
       "</table>\n",
       "</div>"
      ],
      "text/plain": [
       "   a    b     c   d\n",
       "0  1  2.5   yey  42\n",
       "1  2  0.7   uhu  42\n",
       "2  3  5.6  blbl  42"
      ]
     },
     "execution_count": 32,
     "metadata": {},
     "output_type": "execute_result"
    }
   ],
   "source": [
    "df"
   ]
  },
  {
   "cell_type": "code",
   "execution_count": 33,
   "id": "a22b36c1",
   "metadata": {},
   "outputs": [
    {
     "data": {
      "text/plain": [
       "a       3\n",
       "b     5.6\n",
       "c    blbl\n",
       "d      42\n",
       "Name: 2, dtype: object"
      ]
     },
     "execution_count": 33,
     "metadata": {},
     "output_type": "execute_result"
    }
   ],
   "source": [
    "df.loc[2]"
   ]
  },
  {
   "cell_type": "markdown",
   "id": "c2453f65",
   "metadata": {},
   "source": [
    "the 2 corresponds to the row position"
   ]
  },
  {
   "cell_type": "code",
   "execution_count": 34,
   "id": "f81a84e8",
   "metadata": {},
   "outputs": [
    {
     "data": {
      "text/plain": [
       "a       3\n",
       "b     5.6\n",
       "c    blbl\n",
       "d      42\n",
       "Name: 2, dtype: object"
      ]
     },
     "execution_count": 34,
     "metadata": {},
     "output_type": "execute_result"
    }
   ],
   "source": [
    "df.iloc[2]"
   ]
  },
  {
   "cell_type": "markdown",
   "id": "8cd49e91",
   "metadata": {},
   "source": [
    "takes the index of the position. It is by chance that this time we get the same with loc and iloc"
   ]
  },
  {
   "cell_type": "markdown",
   "id": "4e4731c9",
   "metadata": {},
   "source": [
    "## Grouped operations"
   ]
  },
  {
   "cell_type": "code",
   "execution_count": 36,
   "id": "db09d161",
   "metadata": {},
   "outputs": [
    {
     "data": {
      "text/html": [
       "<div>\n",
       "<style scoped>\n",
       "    .dataframe tbody tr th:only-of-type {\n",
       "        vertical-align: middle;\n",
       "    }\n",
       "\n",
       "    .dataframe tbody tr th {\n",
       "        vertical-align: top;\n",
       "    }\n",
       "\n",
       "    .dataframe thead th {\n",
       "        text-align: right;\n",
       "    }\n",
       "</style>\n",
       "<table border=\"1\" class=\"dataframe\">\n",
       "  <thead>\n",
       "    <tr style=\"text-align: right;\">\n",
       "      <th></th>\n",
       "      <th>location</th>\n",
       "      <th>detector</th>\n",
       "      <th>x</th>\n",
       "      <th>y</th>\n",
       "    </tr>\n",
       "  </thead>\n",
       "  <tbody>\n",
       "    <tr>\n",
       "      <th>0</th>\n",
       "      <td>Italy</td>\n",
       "      <td>ARCA_DU1</td>\n",
       "      <td>0.225207</td>\n",
       "      <td>0.278426</td>\n",
       "    </tr>\n",
       "    <tr>\n",
       "      <th>1</th>\n",
       "      <td>France</td>\n",
       "      <td>ORCA_DU2</td>\n",
       "      <td>0.300166</td>\n",
       "      <td>0.254870</td>\n",
       "    </tr>\n",
       "    <tr>\n",
       "      <th>2</th>\n",
       "      <td>Italy</td>\n",
       "      <td>ARCA_DU3</td>\n",
       "      <td>0.873553</td>\n",
       "      <td>0.445076</td>\n",
       "    </tr>\n",
       "    <tr>\n",
       "      <th>3</th>\n",
       "      <td>Italy</td>\n",
       "      <td>ARCA_DU4</td>\n",
       "      <td>0.005265</td>\n",
       "      <td>0.504548</td>\n",
       "    </tr>\n",
       "    <tr>\n",
       "      <th>4</th>\n",
       "      <td>France</td>\n",
       "      <td>ANTARES</td>\n",
       "      <td>0.821228</td>\n",
       "      <td>0.553497</td>\n",
       "    </tr>\n",
       "    <tr>\n",
       "      <th>5</th>\n",
       "      <td>Italy</td>\n",
       "      <td>NEMO</td>\n",
       "      <td>0.797069</td>\n",
       "      <td>0.995500</td>\n",
       "    </tr>\n",
       "    <tr>\n",
       "      <th>6</th>\n",
       "      <td>France</td>\n",
       "      <td>ORCA_DU1</td>\n",
       "      <td>0.467935</td>\n",
       "      <td>0.792662</td>\n",
       "    </tr>\n",
       "    <tr>\n",
       "      <th>7</th>\n",
       "      <td>France</td>\n",
       "      <td>ORCA_DU5</td>\n",
       "      <td>0.303032</td>\n",
       "      <td>0.622179</td>\n",
       "    </tr>\n",
       "  </tbody>\n",
       "</table>\n",
       "</div>"
      ],
      "text/plain": [
       "  location  detector         x         y\n",
       "0    Italy  ARCA_DU1  0.225207  0.278426\n",
       "1   France  ORCA_DU2  0.300166  0.254870\n",
       "2    Italy  ARCA_DU3  0.873553  0.445076\n",
       "3    Italy  ARCA_DU4  0.005265  0.504548\n",
       "4   France   ANTARES  0.821228  0.553497\n",
       "5    Italy      NEMO  0.797069  0.995500\n",
       "6   France  ORCA_DU1  0.467935  0.792662\n",
       "7   France  ORCA_DU5  0.303032  0.622179"
      ]
     },
     "execution_count": 36,
     "metadata": {},
     "output_type": "execute_result"
    }
   ],
   "source": [
    "\n",
    "\n",
    "df = pd.DataFrame({'location' : ['Italy', 'France', 'Italy', 'Italy',\n",
    "                                 'France', 'Italy', 'France', 'France'],\n",
    "                   'detector' : ['ARCA_DU1', 'ORCA_DU2', 'ARCA_DU3', 'ARCA_DU4',\n",
    "                                 'ANTARES', 'NEMO', 'ORCA_DU1', 'ORCA_DU5'],\n",
    "                   'x' : rng.random(8),\n",
    "                   'y' : rng.random(8)})\n",
    "\n",
    "df"
   ]
  },
  {
   "cell_type": "code",
   "execution_count": 37,
   "id": "4bf3b4a6",
   "metadata": {},
   "outputs": [
    {
     "data": {
      "text/plain": [
       "{'France': [1, 4, 6, 7], 'Italy': [0, 2, 3, 5]}"
      ]
     },
     "execution_count": 37,
     "metadata": {},
     "output_type": "execute_result"
    }
   ],
   "source": [
    "df.groupby(['location']).groups"
   ]
  },
  {
   "cell_type": "code",
   "execution_count": 38,
   "id": "253eb6f8",
   "metadata": {},
   "outputs": [
    {
     "data": {
      "text/html": [
       "<div>\n",
       "<style scoped>\n",
       "    .dataframe tbody tr th:only-of-type {\n",
       "        vertical-align: middle;\n",
       "    }\n",
       "\n",
       "    .dataframe tbody tr th {\n",
       "        vertical-align: top;\n",
       "    }\n",
       "\n",
       "    .dataframe thead th {\n",
       "        text-align: right;\n",
       "    }\n",
       "</style>\n",
       "<table border=\"1\" class=\"dataframe\">\n",
       "  <thead>\n",
       "    <tr style=\"text-align: right;\">\n",
       "      <th></th>\n",
       "      <th>location</th>\n",
       "      <th>detector</th>\n",
       "      <th>x</th>\n",
       "      <th>y</th>\n",
       "    </tr>\n",
       "  </thead>\n",
       "  <tbody>\n",
       "    <tr>\n",
       "      <th>1</th>\n",
       "      <td>France</td>\n",
       "      <td>ORCA_DU2</td>\n",
       "      <td>0.300166</td>\n",
       "      <td>0.254870</td>\n",
       "    </tr>\n",
       "    <tr>\n",
       "      <th>4</th>\n",
       "      <td>France</td>\n",
       "      <td>ANTARES</td>\n",
       "      <td>0.821228</td>\n",
       "      <td>0.553497</td>\n",
       "    </tr>\n",
       "    <tr>\n",
       "      <th>6</th>\n",
       "      <td>France</td>\n",
       "      <td>ORCA_DU1</td>\n",
       "      <td>0.467935</td>\n",
       "      <td>0.792662</td>\n",
       "    </tr>\n",
       "    <tr>\n",
       "      <th>7</th>\n",
       "      <td>France</td>\n",
       "      <td>ORCA_DU5</td>\n",
       "      <td>0.303032</td>\n",
       "      <td>0.622179</td>\n",
       "    </tr>\n",
       "  </tbody>\n",
       "</table>\n",
       "</div>"
      ],
      "text/plain": [
       "  location  detector         x         y\n",
       "1   France  ORCA_DU2  0.300166  0.254870\n",
       "4   France   ANTARES  0.821228  0.553497\n",
       "6   France  ORCA_DU1  0.467935  0.792662\n",
       "7   France  ORCA_DU5  0.303032  0.622179"
      ]
     },
     "execution_count": 38,
     "metadata": {},
     "output_type": "execute_result"
    }
   ],
   "source": [
    "df.groupby(['location']).get_group('France')"
   ]
  },
  {
   "cell_type": "code",
   "execution_count": 39,
   "id": "5d369412",
   "metadata": {},
   "outputs": [
    {
     "ename": "NameError",
     "evalue": "name 'df_by_location' is not defined",
     "output_type": "error",
     "traceback": [
      "\u001b[0;31m---------------------------------------------------------------------------\u001b[0m",
      "\u001b[0;31mNameError\u001b[0m                                 Traceback (most recent call last)",
      "\u001b[0;32m<ipython-input-39-0c3471270fa8>\u001b[0m in \u001b[0;36m<module>\u001b[0;34m\u001b[0m\n\u001b[0;32m----> 1\u001b[0;31m \u001b[0mdf_by_location\u001b[0m\u001b[0;34m.\u001b[0m\u001b[0mget_group\u001b[0m\u001b[0;34m(\u001b[0m\u001b[0;34m\"France\"\u001b[0m\u001b[0;34m)\u001b[0m\u001b[0;34m[\u001b[0m\u001b[0;34m\"x\"\u001b[0m\u001b[0;34m]\u001b[0m\u001b[0;34m\u001b[0m\u001b[0;34m\u001b[0m\u001b[0m\n\u001b[0m",
      "\u001b[0;31mNameError\u001b[0m: name 'df_by_location' is not defined"
     ]
    }
   ],
   "source": [
    "df_by_location.get_group(\"France\")[\"x\"]"
   ]
  },
  {
   "cell_type": "code",
   "execution_count": 40,
   "id": "df8ac9e5",
   "metadata": {},
   "outputs": [
    {
     "data": {
      "text/html": [
       "<div>\n",
       "<style scoped>\n",
       "    .dataframe tbody tr th:only-of-type {\n",
       "        vertical-align: middle;\n",
       "    }\n",
       "\n",
       "    .dataframe tbody tr th {\n",
       "        vertical-align: top;\n",
       "    }\n",
       "\n",
       "    .dataframe thead th {\n",
       "        text-align: right;\n",
       "    }\n",
       "</style>\n",
       "<table border=\"1\" class=\"dataframe\">\n",
       "  <thead>\n",
       "    <tr style=\"text-align: right;\">\n",
       "      <th></th>\n",
       "      <th>event_id</th>\n",
       "      <th>hit_time</th>\n",
       "      <th>pmt_id</th>\n",
       "    </tr>\n",
       "  </thead>\n",
       "  <tbody>\n",
       "    <tr>\n",
       "      <th>0</th>\n",
       "      <td>1</td>\n",
       "      <td>23</td>\n",
       "      <td>4</td>\n",
       "    </tr>\n",
       "    <tr>\n",
       "      <th>1</th>\n",
       "      <td>1</td>\n",
       "      <td>13</td>\n",
       "      <td>3</td>\n",
       "    </tr>\n",
       "    <tr>\n",
       "      <th>2</th>\n",
       "      <td>1</td>\n",
       "      <td>14</td>\n",
       "      <td>5</td>\n",
       "    </tr>\n",
       "    <tr>\n",
       "      <th>3</th>\n",
       "      <td>2</td>\n",
       "      <td>44</td>\n",
       "      <td>30</td>\n",
       "    </tr>\n",
       "    <tr>\n",
       "      <th>4</th>\n",
       "      <td>2</td>\n",
       "      <td>23</td>\n",
       "      <td>5</td>\n",
       "    </tr>\n",
       "    <tr>\n",
       "      <th>5</th>\n",
       "      <td>3</td>\n",
       "      <td>45</td>\n",
       "      <td>5</td>\n",
       "    </tr>\n",
       "    <tr>\n",
       "      <th>6</th>\n",
       "      <td>3</td>\n",
       "      <td>1</td>\n",
       "      <td>3</td>\n",
       "    </tr>\n",
       "    <tr>\n",
       "      <th>7</th>\n",
       "      <td>3</td>\n",
       "      <td>2</td>\n",
       "      <td>5</td>\n",
       "    </tr>\n",
       "    <tr>\n",
       "      <th>8</th>\n",
       "      <td>3</td>\n",
       "      <td>4</td>\n",
       "      <td>3</td>\n",
       "    </tr>\n",
       "  </tbody>\n",
       "</table>\n",
       "</div>"
      ],
      "text/plain": [
       "   event_id  hit_time  pmt_id\n",
       "0         1        23       4\n",
       "1         1        13       3\n",
       "2         1        14       5\n",
       "3         2        44      30\n",
       "4         2        23       5\n",
       "5         3        45       5\n",
       "6         3         1       3\n",
       "7         3         2       5\n",
       "8         3         4       3"
      ]
     },
     "execution_count": 40,
     "metadata": {},
     "output_type": "execute_result"
    }
   ],
   "source": [
    "\n",
    "\n",
    "df = pd.DataFrame({\n",
    "    'event_id': [1, 1, 1, 2, 2, 3, 3, 3, 3],\n",
    "    'hit_time': [23, 13, 14, 44, 23, 45, 1, 2, 4],\n",
    "    'pmt_id': [4, 3, 5, 30, 5, 5, 3, 5, 3]\n",
    "})\n",
    "df\n",
    "\n"
   ]
  },
  {
   "cell_type": "code",
   "execution_count": 41,
   "id": "a942a9f7",
   "metadata": {},
   "outputs": [
    {
     "data": {
      "text/plain": [
       "<pandas.core.groupby.generic.DataFrameGroupBy object at 0x7fe130d5e7c0>"
      ]
     },
     "execution_count": 41,
     "metadata": {},
     "output_type": "execute_result"
    }
   ],
   "source": [
    "df.groupby(\"event_id\")"
   ]
  },
  {
   "cell_type": "code",
   "execution_count": 42,
   "id": "bf6e9cf1",
   "metadata": {},
   "outputs": [
    {
     "name": "stdout",
     "output_type": "stream",
     "text": [
      "Group name: 1\n",
      "   event_id  hit_time  pmt_id\n",
      "0         1        23       4\n",
      "1         1        13       3\n",
      "2         1        14       5 \n",
      "\n",
      "Group name: 2\n",
      "   event_id  hit_time  pmt_id\n",
      "3         2        44      30\n",
      "4         2        23       5 \n",
      "\n",
      "Group name: 3\n",
      "   event_id  hit_time  pmt_id\n",
      "5         3        45       5\n",
      "6         3         1       3\n",
      "7         3         2       5\n",
      "8         3         4       3 \n",
      "\n"
     ]
    }
   ],
   "source": [
    "for name, group_data in df.groupby('event_id'):\n",
    "    print(\"Group name: {0}\".format(name))\n",
    "    print(group_data, \"\\n\")\n",
    "\n"
   ]
  },
  {
   "cell_type": "code",
   "execution_count": 43,
   "id": "38df0231",
   "metadata": {},
   "outputs": [
    {
     "data": {
      "text/plain": [
       "event_id\n",
       "1    13\n",
       "2    23\n",
       "3     1\n",
       "Name: hit_time, dtype: int64"
      ]
     },
     "execution_count": 43,
     "metadata": {},
     "output_type": "execute_result"
    }
   ],
   "source": [
    "df.groupby(\"event_id\")[\"hit_time\"].min()"
   ]
  },
  {
   "cell_type": "markdown",
   "id": "2796fb3d",
   "metadata": {},
   "source": [
    "it calls the minimum function on the hit time, after grouping by id. We can call several functions"
   ]
  },
  {
   "cell_type": "code",
   "execution_count": 44,
   "id": "dcaef621",
   "metadata": {},
   "outputs": [
    {
     "data": {
      "text/plain": [
       "event_id\n",
       "1    23\n",
       "2    44\n",
       "3    45\n",
       "Name: hit_time, dtype: int64"
      ]
     },
     "execution_count": 44,
     "metadata": {},
     "output_type": "execute_result"
    }
   ],
   "source": [
    "df.groupby(\"event_id\")[\"hit_time\"].max()"
   ]
  },
  {
   "cell_type": "code",
   "execution_count": 45,
   "id": "b9acd5f7",
   "metadata": {},
   "outputs": [
    {
     "data": {
      "text/plain": [
       "event_id\n",
       "1    50\n",
       "2    67\n",
       "3    52\n",
       "Name: hit_time, dtype: int64"
      ]
     },
     "execution_count": 45,
     "metadata": {},
     "output_type": "execute_result"
    }
   ],
   "source": [
    "df.groupby(\"event_id\")[\"hit_time\"].sum()"
   ]
  },
  {
   "cell_type": "code",
   "execution_count": 46,
   "id": "709b05ef",
   "metadata": {},
   "outputs": [
    {
     "data": {
      "text/plain": [
       "event_id\n",
       "1    13\n",
       "2    23\n",
       "3     1\n",
       "Name: hit_time, dtype: int64"
      ]
     },
     "execution_count": 46,
     "metadata": {},
     "output_type": "execute_result"
    }
   ],
   "source": [
    "df.groupby(\"event_id\")[\"hit_time\"].aggregate(\"min\")"
   ]
  },
  {
   "cell_type": "markdown",
   "id": "56f7b7b9",
   "metadata": {},
   "source": [
    "using aggregate we can call our functions, but also the default ones"
   ]
  },
  {
   "cell_type": "code",
   "execution_count": 47,
   "id": "360fc9be",
   "metadata": {},
   "outputs": [
    {
     "data": {
      "text/html": [
       "<div>\n",
       "<style scoped>\n",
       "    .dataframe tbody tr th:only-of-type {\n",
       "        vertical-align: middle;\n",
       "    }\n",
       "\n",
       "    .dataframe tbody tr th {\n",
       "        vertical-align: top;\n",
       "    }\n",
       "\n",
       "    .dataframe thead th {\n",
       "        text-align: right;\n",
       "    }\n",
       "</style>\n",
       "<table border=\"1\" class=\"dataframe\">\n",
       "  <thead>\n",
       "    <tr style=\"text-align: right;\">\n",
       "      <th></th>\n",
       "      <th>amin</th>\n",
       "      <th>median</th>\n",
       "      <th>sum</th>\n",
       "      <th>min</th>\n",
       "      <th>max</th>\n",
       "    </tr>\n",
       "    <tr>\n",
       "      <th>event_id</th>\n",
       "      <th></th>\n",
       "      <th></th>\n",
       "      <th></th>\n",
       "      <th></th>\n",
       "      <th></th>\n",
       "    </tr>\n",
       "  </thead>\n",
       "  <tbody>\n",
       "    <tr>\n",
       "      <th>1</th>\n",
       "      <td>13</td>\n",
       "      <td>14.0</td>\n",
       "      <td>50</td>\n",
       "      <td>13</td>\n",
       "      <td>23</td>\n",
       "    </tr>\n",
       "    <tr>\n",
       "      <th>2</th>\n",
       "      <td>23</td>\n",
       "      <td>33.5</td>\n",
       "      <td>67</td>\n",
       "      <td>23</td>\n",
       "      <td>44</td>\n",
       "    </tr>\n",
       "    <tr>\n",
       "      <th>3</th>\n",
       "      <td>1</td>\n",
       "      <td>3.0</td>\n",
       "      <td>52</td>\n",
       "      <td>1</td>\n",
       "      <td>45</td>\n",
       "    </tr>\n",
       "  </tbody>\n",
       "</table>\n",
       "</div>"
      ],
      "text/plain": [
       "          amin  median  sum  min  max\n",
       "event_id                             \n",
       "1           13    14.0   50   13   23\n",
       "2           23    33.5   67   23   44\n",
       "3            1     3.0   52    1   45"
      ]
     },
     "execution_count": 47,
     "metadata": {},
     "output_type": "execute_result"
    }
   ],
   "source": [
    "df.groupby(\"event_id\")[\"hit_time\"].aggregate([np.min, np.median, sum, min, max])"
   ]
  },
  {
   "cell_type": "markdown",
   "id": "99812487",
   "metadata": {},
   "source": [
    "Aggregate allows also to call several functions at the same time"
   ]
  },
  {
   "cell_type": "markdown",
   "id": "01f83592",
   "metadata": {},
   "source": [
    "## Transformations"
   ]
  },
  {
   "cell_type": "code",
   "execution_count": 50,
   "id": "e8972574",
   "metadata": {},
   "outputs": [],
   "source": [
    "N = 1000\n",
    "index = pd.date_range(\"2021-06-9\", periods=N, freq='D')"
   ]
  },
  {
   "cell_type": "markdown",
   "id": "aecdc06c",
   "metadata": {},
   "source": [
    "date_range creates a set of dates from a certain date, with a period N in steps freq"
   ]
  },
  {
   "cell_type": "code",
   "execution_count": 51,
   "id": "e27f84da",
   "metadata": {},
   "outputs": [
    {
     "data": {
      "text/plain": [
       "DatetimeIndex(['2021-06-09', '2021-06-10', '2021-06-11', '2021-06-12',\n",
       "               '2021-06-13', '2021-06-14', '2021-06-15', '2021-06-16',\n",
       "               '2021-06-17', '2021-06-18',\n",
       "               ...\n",
       "               '2024-02-24', '2024-02-25', '2024-02-26', '2024-02-27',\n",
       "               '2024-02-28', '2024-02-29', '2024-03-01', '2024-03-02',\n",
       "               '2024-03-03', '2024-03-04'],\n",
       "              dtype='datetime64[ns]', length=1000, freq='D')"
      ]
     },
     "execution_count": 51,
     "metadata": {},
     "output_type": "execute_result"
    }
   ],
   "source": [
    "index"
   ]
  },
  {
   "cell_type": "code",
   "execution_count": 53,
   "id": "a0ce9e50",
   "metadata": {},
   "outputs": [
    {
     "data": {
      "text/plain": [
       "2021-06-09    0.061392\n",
       "2021-06-10    1.045345\n",
       "2021-06-11   -2.364012\n",
       "2021-06-12   -2.997202\n",
       "2021-06-13   -1.632132\n",
       "                ...   \n",
       "2024-02-29    0.979581\n",
       "2024-03-01   -1.733588\n",
       "2024-03-02    3.120556\n",
       "2024-03-03    2.702101\n",
       "2024-03-04    0.970998\n",
       "Freq: D, Length: 1000, dtype: float64"
      ]
     },
     "execution_count": 53,
     "metadata": {},
     "output_type": "execute_result"
    }
   ],
   "source": [
    "ts = pd.Series(rng.normal(0.5, 2, N), index)\n",
    "ts"
   ]
  },
  {
   "cell_type": "code",
   "execution_count": 54,
   "id": "6e0d6739",
   "metadata": {},
   "outputs": [
    {
     "data": {
      "text/plain": [
       "2021-06-09         NaN\n",
       "2021-06-10         NaN\n",
       "2021-06-11         NaN\n",
       "2021-06-12         NaN\n",
       "2021-06-13         NaN\n",
       "                ...   \n",
       "2024-02-29    0.435405\n",
       "2024-03-01    0.369254\n",
       "2024-03-02    0.389000\n",
       "2024-03-03    0.412758\n",
       "2024-03-04    0.411406\n",
       "Freq: D, Length: 1000, dtype: float64"
      ]
     },
     "execution_count": 54,
     "metadata": {},
     "output_type": "execute_result"
    }
   ],
   "source": [
    "ts.rolling(window=100, min_periods=100).mean()"
   ]
  },
  {
   "cell_type": "markdown",
   "id": "6e6089bd",
   "metadata": {},
   "source": [
    "takes a window of 100 and computes the mean period"
   ]
  },
  {
   "cell_type": "code",
   "execution_count": 59,
   "id": "29938e45",
   "metadata": {},
   "outputs": [
    {
     "data": {
      "text/plain": [
       "2021    0.299272\n",
       "2022    0.659371\n",
       "2023    0.417748\n",
       "2024    0.412477\n",
       "dtype: float64"
      ]
     },
     "execution_count": 59,
     "metadata": {},
     "output_type": "execute_result"
    }
   ],
   "source": [
    "transformed = ts.groupby(lambda x: x.year)\n",
    "transformed.mean()"
   ]
  },
  {
   "cell_type": "markdown",
   "id": "e6924def",
   "metadata": {},
   "source": [
    "group by year and compute the mean of the datas"
   ]
  },
  {
   "cell_type": "code",
   "execution_count": 60,
   "id": "9c0fbb13",
   "metadata": {},
   "outputs": [
    {
     "data": {
      "text/plain": [
       "2021    2.018480\n",
       "2022    2.182142\n",
       "2023    1.924632\n",
       "2024    1.956719\n",
       "dtype: float64"
      ]
     },
     "execution_count": 60,
     "metadata": {},
     "output_type": "execute_result"
    }
   ],
   "source": [
    "transformed.std()"
   ]
  },
  {
   "cell_type": "markdown",
   "id": "e806318e",
   "metadata": {},
   "source": [
    "do the std of the various years"
   ]
  },
  {
   "cell_type": "code",
   "execution_count": null,
   "id": "37458869",
   "metadata": {},
   "outputs": [],
   "source": []
  },
  {
   "cell_type": "code",
   "execution_count": 56,
   "id": "ad6ad895",
   "metadata": {
    "scrolled": true
   },
   "outputs": [
    {
     "data": {
      "text/plain": [
       "2021-06-09   -0.117851\n",
       "2021-06-10    0.369621\n",
       "2021-06-11   -1.319450\n",
       "2021-06-12   -1.633147\n",
       "2021-06-13   -0.956860\n",
       "                ...   \n",
       "2024-02-29    0.289824\n",
       "2024-03-01   -1.096767\n",
       "2024-03-02    1.383989\n",
       "2024-03-03    1.170134\n",
       "2024-03-04    0.285437\n",
       "Freq: D, Length: 1000, dtype: float64"
      ]
     },
     "execution_count": 56,
     "metadata": {},
     "output_type": "execute_result"
    }
   ],
   "source": [
    "transformed = ts.groupby(lambda x: x.year).transform(lambda x: (x - x.mean()) / x.std())\n",
    "transformed"
   ]
  },
  {
   "cell_type": "code",
   "execution_count": 62,
   "id": "7fd8c4fd",
   "metadata": {},
   "outputs": [
    {
     "ename": "AttributeError",
     "evalue": "'SeriesGroupBy' object has no attribute 'groupby'",
     "output_type": "error",
     "traceback": [
      "\u001b[0;31m---------------------------------------------------------------------------\u001b[0m",
      "\u001b[0;31mAttributeError\u001b[0m                            Traceback (most recent call last)",
      "\u001b[0;32m<ipython-input-62-afe9a5fd57f5>\u001b[0m in \u001b[0;36m<module>\u001b[0;34m\u001b[0m\n\u001b[0;32m----> 1\u001b[0;31m \u001b[0mgrouped_trans\u001b[0m \u001b[0;34m=\u001b[0m \u001b[0mtransformed\u001b[0m\u001b[0;34m.\u001b[0m\u001b[0mgroupby\u001b[0m\u001b[0;34m(\u001b[0m\u001b[0;32mlambda\u001b[0m \u001b[0mx\u001b[0m\u001b[0;34m:\u001b[0m \u001b[0mx\u001b[0m\u001b[0;34m.\u001b[0m\u001b[0myear\u001b[0m\u001b[0;34m)\u001b[0m\u001b[0;34m\u001b[0m\u001b[0;34m\u001b[0m\u001b[0m\n\u001b[0m\u001b[1;32m      2\u001b[0m \u001b[0mgrouped_trans\u001b[0m\u001b[0;34m.\u001b[0m\u001b[0mmean\u001b[0m\u001b[0;34m(\u001b[0m\u001b[0;34m)\u001b[0m\u001b[0;34m\u001b[0m\u001b[0;34m\u001b[0m\u001b[0m\n",
      "\u001b[0;32m~/anaconda3/lib/python3.8/site-packages/pandas/core/groupby/groupby.py\u001b[0m in \u001b[0;36m__getattr__\u001b[0;34m(self, attr)\u001b[0m\n\u001b[1;32m    750\u001b[0m             \u001b[0;32mreturn\u001b[0m \u001b[0mself\u001b[0m\u001b[0;34m[\u001b[0m\u001b[0mattr\u001b[0m\u001b[0;34m]\u001b[0m\u001b[0;34m\u001b[0m\u001b[0;34m\u001b[0m\u001b[0m\n\u001b[1;32m    751\u001b[0m \u001b[0;34m\u001b[0m\u001b[0m\n\u001b[0;32m--> 752\u001b[0;31m         raise AttributeError(\n\u001b[0m\u001b[1;32m    753\u001b[0m             \u001b[0;34mf\"'{type(self).__name__}' object has no attribute '{attr}'\"\u001b[0m\u001b[0;34m\u001b[0m\u001b[0;34m\u001b[0m\u001b[0m\n\u001b[1;32m    754\u001b[0m         )\n",
      "\u001b[0;31mAttributeError\u001b[0m: 'SeriesGroupBy' object has no attribute 'groupby'"
     ]
    }
   ],
   "source": [
    "grouped_trans = transformed.groupby(lambda x: x.year)\n",
    "grouped_trans.mean()"
   ]
  },
  {
   "cell_type": "code",
   "execution_count": 61,
   "id": "809b21e0",
   "metadata": {},
   "outputs": [
    {
     "ename": "ValueError",
     "evalue": "array length 4 does not match index length 1000",
     "output_type": "error",
     "traceback": [
      "\u001b[0;31m---------------------------------------------------------------------------\u001b[0m",
      "\u001b[0;31mValueError\u001b[0m                                Traceback (most recent call last)",
      "\u001b[0;32m<ipython-input-61-0c20ee88a653>\u001b[0m in \u001b[0;36m<module>\u001b[0;34m\u001b[0m\n\u001b[0;32m----> 1\u001b[0;31m \u001b[0mpd\u001b[0m\u001b[0;34m.\u001b[0m\u001b[0mDataFrame\u001b[0m\u001b[0;34m(\u001b[0m\u001b[0;34m{\u001b[0m\u001b[0;34m\"Original Data\"\u001b[0m\u001b[0;34m:\u001b[0m \u001b[0mts\u001b[0m\u001b[0;34m,\u001b[0m \u001b[0;34m\"Transformed\"\u001b[0m\u001b[0;34m:\u001b[0m \u001b[0mtransformed\u001b[0m\u001b[0;34m}\u001b[0m\u001b[0;34m)\u001b[0m\u001b[0;34m.\u001b[0m\u001b[0mplot\u001b[0m\u001b[0;34m(\u001b[0m\u001b[0;34m)\u001b[0m\u001b[0;34m;\u001b[0m\u001b[0;34m\u001b[0m\u001b[0;34m\u001b[0m\u001b[0m\n\u001b[0m",
      "\u001b[0;32m~/anaconda3/lib/python3.8/site-packages/pandas/core/frame.py\u001b[0m in \u001b[0;36m__init__\u001b[0;34m(self, data, index, columns, dtype, copy)\u001b[0m\n\u001b[1;32m    527\u001b[0m \u001b[0;34m\u001b[0m\u001b[0m\n\u001b[1;32m    528\u001b[0m         \u001b[0;32melif\u001b[0m \u001b[0misinstance\u001b[0m\u001b[0;34m(\u001b[0m\u001b[0mdata\u001b[0m\u001b[0;34m,\u001b[0m \u001b[0mdict\u001b[0m\u001b[0;34m)\u001b[0m\u001b[0;34m:\u001b[0m\u001b[0;34m\u001b[0m\u001b[0;34m\u001b[0m\u001b[0m\n\u001b[0;32m--> 529\u001b[0;31m             \u001b[0mmgr\u001b[0m \u001b[0;34m=\u001b[0m \u001b[0minit_dict\u001b[0m\u001b[0;34m(\u001b[0m\u001b[0mdata\u001b[0m\u001b[0;34m,\u001b[0m \u001b[0mindex\u001b[0m\u001b[0;34m,\u001b[0m \u001b[0mcolumns\u001b[0m\u001b[0;34m,\u001b[0m \u001b[0mdtype\u001b[0m\u001b[0;34m=\u001b[0m\u001b[0mdtype\u001b[0m\u001b[0;34m)\u001b[0m\u001b[0;34m\u001b[0m\u001b[0;34m\u001b[0m\u001b[0m\n\u001b[0m\u001b[1;32m    530\u001b[0m         \u001b[0;32melif\u001b[0m \u001b[0misinstance\u001b[0m\u001b[0;34m(\u001b[0m\u001b[0mdata\u001b[0m\u001b[0;34m,\u001b[0m \u001b[0mma\u001b[0m\u001b[0;34m.\u001b[0m\u001b[0mMaskedArray\u001b[0m\u001b[0;34m)\u001b[0m\u001b[0;34m:\u001b[0m\u001b[0;34m\u001b[0m\u001b[0;34m\u001b[0m\u001b[0m\n\u001b[1;32m    531\u001b[0m             \u001b[0;32mimport\u001b[0m \u001b[0mnumpy\u001b[0m\u001b[0;34m.\u001b[0m\u001b[0mma\u001b[0m\u001b[0;34m.\u001b[0m\u001b[0mmrecords\u001b[0m \u001b[0;32mas\u001b[0m \u001b[0mmrecords\u001b[0m\u001b[0;34m\u001b[0m\u001b[0;34m\u001b[0m\u001b[0m\n",
      "\u001b[0;32m~/anaconda3/lib/python3.8/site-packages/pandas/core/internals/construction.py\u001b[0m in \u001b[0;36minit_dict\u001b[0;34m(data, index, columns, dtype)\u001b[0m\n\u001b[1;32m    285\u001b[0m             \u001b[0marr\u001b[0m \u001b[0;32mif\u001b[0m \u001b[0;32mnot\u001b[0m \u001b[0mis_datetime64tz_dtype\u001b[0m\u001b[0;34m(\u001b[0m\u001b[0marr\u001b[0m\u001b[0;34m)\u001b[0m \u001b[0;32melse\u001b[0m \u001b[0marr\u001b[0m\u001b[0;34m.\u001b[0m\u001b[0mcopy\u001b[0m\u001b[0;34m(\u001b[0m\u001b[0;34m)\u001b[0m \u001b[0;32mfor\u001b[0m \u001b[0marr\u001b[0m \u001b[0;32min\u001b[0m \u001b[0marrays\u001b[0m\u001b[0;34m\u001b[0m\u001b[0;34m\u001b[0m\u001b[0m\n\u001b[1;32m    286\u001b[0m         ]\n\u001b[0;32m--> 287\u001b[0;31m     \u001b[0;32mreturn\u001b[0m \u001b[0marrays_to_mgr\u001b[0m\u001b[0;34m(\u001b[0m\u001b[0marrays\u001b[0m\u001b[0;34m,\u001b[0m \u001b[0mdata_names\u001b[0m\u001b[0;34m,\u001b[0m \u001b[0mindex\u001b[0m\u001b[0;34m,\u001b[0m \u001b[0mcolumns\u001b[0m\u001b[0;34m,\u001b[0m \u001b[0mdtype\u001b[0m\u001b[0;34m=\u001b[0m\u001b[0mdtype\u001b[0m\u001b[0;34m)\u001b[0m\u001b[0;34m\u001b[0m\u001b[0;34m\u001b[0m\u001b[0m\n\u001b[0m\u001b[1;32m    288\u001b[0m \u001b[0;34m\u001b[0m\u001b[0m\n\u001b[1;32m    289\u001b[0m \u001b[0;34m\u001b[0m\u001b[0m\n",
      "\u001b[0;32m~/anaconda3/lib/python3.8/site-packages/pandas/core/internals/construction.py\u001b[0m in \u001b[0;36marrays_to_mgr\u001b[0;34m(arrays, arr_names, index, columns, dtype, verify_integrity)\u001b[0m\n\u001b[1;32m     78\u001b[0m         \u001b[0;31m# figure out the index, if necessary\u001b[0m\u001b[0;34m\u001b[0m\u001b[0;34m\u001b[0m\u001b[0;34m\u001b[0m\u001b[0m\n\u001b[1;32m     79\u001b[0m         \u001b[0;32mif\u001b[0m \u001b[0mindex\u001b[0m \u001b[0;32mis\u001b[0m \u001b[0;32mNone\u001b[0m\u001b[0;34m:\u001b[0m\u001b[0;34m\u001b[0m\u001b[0;34m\u001b[0m\u001b[0m\n\u001b[0;32m---> 80\u001b[0;31m             \u001b[0mindex\u001b[0m \u001b[0;34m=\u001b[0m \u001b[0mextract_index\u001b[0m\u001b[0;34m(\u001b[0m\u001b[0marrays\u001b[0m\u001b[0;34m)\u001b[0m\u001b[0;34m\u001b[0m\u001b[0;34m\u001b[0m\u001b[0m\n\u001b[0m\u001b[1;32m     81\u001b[0m         \u001b[0;32melse\u001b[0m\u001b[0;34m:\u001b[0m\u001b[0;34m\u001b[0m\u001b[0;34m\u001b[0m\u001b[0m\n\u001b[1;32m     82\u001b[0m             \u001b[0mindex\u001b[0m \u001b[0;34m=\u001b[0m \u001b[0mensure_index\u001b[0m\u001b[0;34m(\u001b[0m\u001b[0mindex\u001b[0m\u001b[0;34m)\u001b[0m\u001b[0;34m\u001b[0m\u001b[0;34m\u001b[0m\u001b[0m\n",
      "\u001b[0;32m~/anaconda3/lib/python3.8/site-packages/pandas/core/internals/construction.py\u001b[0m in \u001b[0;36mextract_index\u001b[0;34m(data)\u001b[0m\n\u001b[1;32m    413\u001b[0m                         \u001b[0;34mf\"length {len(index)}\"\u001b[0m\u001b[0;34m\u001b[0m\u001b[0;34m\u001b[0m\u001b[0m\n\u001b[1;32m    414\u001b[0m                     )\n\u001b[0;32m--> 415\u001b[0;31m                     \u001b[0;32mraise\u001b[0m \u001b[0mValueError\u001b[0m\u001b[0;34m(\u001b[0m\u001b[0mmsg\u001b[0m\u001b[0;34m)\u001b[0m\u001b[0;34m\u001b[0m\u001b[0;34m\u001b[0m\u001b[0m\n\u001b[0m\u001b[1;32m    416\u001b[0m             \u001b[0;32melse\u001b[0m\u001b[0;34m:\u001b[0m\u001b[0;34m\u001b[0m\u001b[0;34m\u001b[0m\u001b[0m\n\u001b[1;32m    417\u001b[0m                 \u001b[0mindex\u001b[0m \u001b[0;34m=\u001b[0m \u001b[0mibase\u001b[0m\u001b[0;34m.\u001b[0m\u001b[0mdefault_index\u001b[0m\u001b[0;34m(\u001b[0m\u001b[0mlengths\u001b[0m\u001b[0;34m[\u001b[0m\u001b[0;36m0\u001b[0m\u001b[0;34m]\u001b[0m\u001b[0;34m)\u001b[0m\u001b[0;34m\u001b[0m\u001b[0;34m\u001b[0m\u001b[0m\n",
      "\u001b[0;31mValueError\u001b[0m: array length 4 does not match index length 1000"
     ]
    }
   ],
   "source": [
    "pd.DataFrame({\"Original Data\": ts, \"Transformed\": transformed}).plot();"
   ]
  },
  {
   "cell_type": "markdown",
   "id": "2f080f2c",
   "metadata": {},
   "source": [
    "we group by year our datas and transform them doing \n"
   ]
  },
  {
   "cell_type": "markdown",
   "id": "bbd31c12",
   "metadata": {},
   "source": [
    "## Plotting"
   ]
  },
  {
   "cell_type": "code",
   "execution_count": 63,
   "id": "f3888ba7",
   "metadata": {},
   "outputs": [],
   "source": [
    "df = pd.DataFrame({'foo': np.cumsum(rng.random(1000) - 0.5),\n",
    "                   'bar': np.cumsum(rng.random(1000) - 0.5),\n",
    "                   'narf': np.cumsum(rng.random(1000) - 0.5)})"
   ]
  },
  {
   "cell_type": "code",
   "execution_count": 64,
   "id": "9d31c907",
   "metadata": {},
   "outputs": [
    {
     "data": {
      "image/png": "[encoded data removed]",
      "text/plain": [
       "<Figure size 432x288 with 1 Axes>"
      ]
     },
     "metadata": {
      "needs_background": "light"
     },
     "output_type": "display_data"
    }
   ],
   "source": [
    "df.plot();  # check out the parameters you can pass to `.plot()` by hitting TAB inside the parentheses"
   ]
  },
  {
   "cell_type": "markdown",
   "id": "49f9aeaa",
   "metadata": {},
   "source": [
    "we can plot the dataframe in severla ways. Actually the plot can take as arguments lots of staff (for example using histogram)"
   ]
  },
  {
   "cell_type": "code",
   "execution_count": 65,
   "id": "69e43a7a",
   "metadata": {},
   "outputs": [
    {
     "data": {
      "image/png": "[encoded data removed]",
      "text/plain": [
       "<Figure size 432x288 with 4 Axes>"
      ]
     },
     "metadata": {
      "needs_background": "light"
     },
     "output_type": "display_data"
    }
   ],
   "source": [
    "df.hist();"
   ]
  },
  {
   "cell_type": "code",
   "execution_count": 68,
   "id": "ac2ef6ea",
   "metadata": {},
   "outputs": [
    {
     "data": {
      "image/png": "[encoded data removed]",
      "text/plain": [
       "<Figure size 432x288 with 1 Axes>"
      ]
     },
     "metadata": {
      "needs_background": "light"
     },
     "output_type": "display_data"
    }
   ],
   "source": [
    "plt.scatter(df['foo'], df['bar']);"
   ]
  },
  {
   "cell_type": "markdown",
   "id": "86589dc4",
   "metadata": {},
   "source": [
    "## MemoryUsage of Data Frames"
   ]
  },
  {
   "cell_type": "code",
   "execution_count": 69,
   "id": "6e6d8ce0",
   "metadata": {},
   "outputs": [],
   "source": [
    "data = rng.random((10000000,6))"
   ]
  },
  {
   "cell_type": "code",
   "execution_count": 71,
   "id": "b369f3f1",
   "metadata": {},
   "outputs": [
    {
     "data": {
      "text/html": [
       "<div>\n",
       "<style scoped>\n",
       "    .dataframe tbody tr th:only-of-type {\n",
       "        vertical-align: middle;\n",
       "    }\n",
       "\n",
       "    .dataframe tbody tr th {\n",
       "        vertical-align: top;\n",
       "    }\n",
       "\n",
       "    .dataframe thead th {\n",
       "        text-align: right;\n",
       "    }\n",
       "</style>\n",
       "<table border=\"1\" class=\"dataframe\">\n",
       "  <thead>\n",
       "    <tr style=\"text-align: right;\">\n",
       "      <th></th>\n",
       "      <th>a</th>\n",
       "      <th>b</th>\n",
       "      <th>c</th>\n",
       "      <th>d</th>\n",
       "      <th>e</th>\n",
       "      <th>f</th>\n",
       "    </tr>\n",
       "  </thead>\n",
       "  <tbody>\n",
       "    <tr>\n",
       "      <th>0</th>\n",
       "      <td>0.205276</td>\n",
       "      <td>0.332215</td>\n",
       "      <td>0.293063</td>\n",
       "      <td>0.962412</td>\n",
       "      <td>0.235004</td>\n",
       "      <td>0.424549</td>\n",
       "    </tr>\n",
       "    <tr>\n",
       "      <th>1</th>\n",
       "      <td>0.485825</td>\n",
       "      <td>0.691176</td>\n",
       "      <td>0.969973</td>\n",
       "      <td>0.613931</td>\n",
       "      <td>0.860611</td>\n",
       "      <td>0.131427</td>\n",
       "    </tr>\n",
       "    <tr>\n",
       "      <th>2</th>\n",
       "      <td>0.661392</td>\n",
       "      <td>0.172424</td>\n",
       "      <td>0.871290</td>\n",
       "      <td>0.595554</td>\n",
       "      <td>0.136197</td>\n",
       "      <td>0.850109</td>\n",
       "    </tr>\n",
       "    <tr>\n",
       "      <th>3</th>\n",
       "      <td>0.524996</td>\n",
       "      <td>0.485601</td>\n",
       "      <td>0.081173</td>\n",
       "      <td>0.906935</td>\n",
       "      <td>0.513884</td>\n",
       "      <td>0.864574</td>\n",
       "    </tr>\n",
       "    <tr>\n",
       "      <th>4</th>\n",
       "      <td>0.075251</td>\n",
       "      <td>0.679681</td>\n",
       "      <td>0.375472</td>\n",
       "      <td>0.536589</td>\n",
       "      <td>0.624309</td>\n",
       "      <td>0.825783</td>\n",
       "    </tr>\n",
       "    <tr>\n",
       "      <th>...</th>\n",
       "      <td>...</td>\n",
       "      <td>...</td>\n",
       "      <td>...</td>\n",
       "      <td>...</td>\n",
       "      <td>...</td>\n",
       "      <td>...</td>\n",
       "    </tr>\n",
       "    <tr>\n",
       "      <th>9999995</th>\n",
       "      <td>0.174628</td>\n",
       "      <td>0.079137</td>\n",
       "      <td>0.146345</td>\n",
       "      <td>0.890676</td>\n",
       "      <td>0.446744</td>\n",
       "      <td>0.590642</td>\n",
       "    </tr>\n",
       "    <tr>\n",
       "      <th>9999996</th>\n",
       "      <td>0.897556</td>\n",
       "      <td>0.305137</td>\n",
       "      <td>0.960294</td>\n",
       "      <td>0.037959</td>\n",
       "      <td>0.668742</td>\n",
       "      <td>0.820813</td>\n",
       "    </tr>\n",
       "    <tr>\n",
       "      <th>9999997</th>\n",
       "      <td>0.826270</td>\n",
       "      <td>0.501572</td>\n",
       "      <td>0.323652</td>\n",
       "      <td>0.966024</td>\n",
       "      <td>0.615759</td>\n",
       "      <td>0.984632</td>\n",
       "    </tr>\n",
       "    <tr>\n",
       "      <th>9999998</th>\n",
       "      <td>0.377882</td>\n",
       "      <td>0.937459</td>\n",
       "      <td>0.990199</td>\n",
       "      <td>0.594299</td>\n",
       "      <td>0.826451</td>\n",
       "      <td>0.036477</td>\n",
       "    </tr>\n",
       "    <tr>\n",
       "      <th>9999999</th>\n",
       "      <td>0.253049</td>\n",
       "      <td>0.977842</td>\n",
       "      <td>0.597300</td>\n",
       "      <td>0.765223</td>\n",
       "      <td>0.623187</td>\n",
       "      <td>0.951479</td>\n",
       "    </tr>\n",
       "  </tbody>\n",
       "</table>\n",
       "<p>10000000 rows × 6 columns</p>\n",
       "</div>"
      ],
      "text/plain": [
       "                a         b         c         d         e         f\n",
       "0        0.205276  0.332215  0.293063  0.962412  0.235004  0.424549\n",
       "1        0.485825  0.691176  0.969973  0.613931  0.860611  0.131427\n",
       "2        0.661392  0.172424  0.871290  0.595554  0.136197  0.850109\n",
       "3        0.524996  0.485601  0.081173  0.906935  0.513884  0.864574\n",
       "4        0.075251  0.679681  0.375472  0.536589  0.624309  0.825783\n",
       "...           ...       ...       ...       ...       ...       ...\n",
       "9999995  0.174628  0.079137  0.146345  0.890676  0.446744  0.590642\n",
       "9999996  0.897556  0.305137  0.960294  0.037959  0.668742  0.820813\n",
       "9999997  0.826270  0.501572  0.323652  0.966024  0.615759  0.984632\n",
       "9999998  0.377882  0.937459  0.990199  0.594299  0.826451  0.036477\n",
       "9999999  0.253049  0.977842  0.597300  0.765223  0.623187  0.951479\n",
       "\n",
       "[10000000 rows x 6 columns]"
      ]
     },
     "execution_count": 71,
     "metadata": {},
     "output_type": "execute_result"
    }
   ],
   "source": [
    "df = pd.DataFrame(data, columns=list(\"abcdef\"))\n",
    "df"
   ]
  },
  {
   "cell_type": "code",
   "execution_count": 72,
   "id": "49b26037",
   "metadata": {},
   "outputs": [
    {
     "data": {
      "text/html": [
       "<div>\n",
       "<style scoped>\n",
       "    .dataframe tbody tr th:only-of-type {\n",
       "        vertical-align: middle;\n",
       "    }\n",
       "\n",
       "    .dataframe tbody tr th {\n",
       "        vertical-align: top;\n",
       "    }\n",
       "\n",
       "    .dataframe thead th {\n",
       "        text-align: right;\n",
       "    }\n",
       "</style>\n",
       "<table border=\"1\" class=\"dataframe\">\n",
       "  <thead>\n",
       "    <tr style=\"text-align: right;\">\n",
       "      <th></th>\n",
       "      <th>a</th>\n",
       "      <th>b</th>\n",
       "      <th>c</th>\n",
       "      <th>d</th>\n",
       "      <th>e</th>\n",
       "      <th>f</th>\n",
       "    </tr>\n",
       "  </thead>\n",
       "  <tbody>\n",
       "    <tr>\n",
       "      <th>9999995</th>\n",
       "      <td>0.174628</td>\n",
       "      <td>0.079137</td>\n",
       "      <td>0.146345</td>\n",
       "      <td>0.890676</td>\n",
       "      <td>0.446744</td>\n",
       "      <td>0.590642</td>\n",
       "    </tr>\n",
       "    <tr>\n",
       "      <th>9999996</th>\n",
       "      <td>0.897556</td>\n",
       "      <td>0.305137</td>\n",
       "      <td>0.960294</td>\n",
       "      <td>0.037959</td>\n",
       "      <td>0.668742</td>\n",
       "      <td>0.820813</td>\n",
       "    </tr>\n",
       "    <tr>\n",
       "      <th>9999997</th>\n",
       "      <td>0.826270</td>\n",
       "      <td>0.501572</td>\n",
       "      <td>0.323652</td>\n",
       "      <td>0.966024</td>\n",
       "      <td>0.615759</td>\n",
       "      <td>0.984632</td>\n",
       "    </tr>\n",
       "    <tr>\n",
       "      <th>9999998</th>\n",
       "      <td>0.377882</td>\n",
       "      <td>0.937459</td>\n",
       "      <td>0.990199</td>\n",
       "      <td>0.594299</td>\n",
       "      <td>0.826451</td>\n",
       "      <td>0.036477</td>\n",
       "    </tr>\n",
       "    <tr>\n",
       "      <th>9999999</th>\n",
       "      <td>0.253049</td>\n",
       "      <td>0.977842</td>\n",
       "      <td>0.597300</td>\n",
       "      <td>0.765223</td>\n",
       "      <td>0.623187</td>\n",
       "      <td>0.951479</td>\n",
       "    </tr>\n",
       "  </tbody>\n",
       "</table>\n",
       "</div>"
      ],
      "text/plain": [
       "                a         b         c         d         e         f\n",
       "9999995  0.174628  0.079137  0.146345  0.890676  0.446744  0.590642\n",
       "9999996  0.897556  0.305137  0.960294  0.037959  0.668742  0.820813\n",
       "9999997  0.826270  0.501572  0.323652  0.966024  0.615759  0.984632\n",
       "9999998  0.377882  0.937459  0.990199  0.594299  0.826451  0.036477\n",
       "9999999  0.253049  0.977842  0.597300  0.765223  0.623187  0.951479"
      ]
     },
     "execution_count": 72,
     "metadata": {},
     "output_type": "execute_result"
    }
   ],
   "source": [
    "df.tail()"
   ]
  },
  {
   "cell_type": "code",
   "execution_count": 73,
   "id": "c92749d1",
   "metadata": {},
   "outputs": [
    {
     "data": {
      "text/html": [
       "<div>\n",
       "<style scoped>\n",
       "    .dataframe tbody tr th:only-of-type {\n",
       "        vertical-align: middle;\n",
       "    }\n",
       "\n",
       "    .dataframe tbody tr th {\n",
       "        vertical-align: top;\n",
       "    }\n",
       "\n",
       "    .dataframe thead th {\n",
       "        text-align: right;\n",
       "    }\n",
       "</style>\n",
       "<table border=\"1\" class=\"dataframe\">\n",
       "  <thead>\n",
       "    <tr style=\"text-align: right;\">\n",
       "      <th></th>\n",
       "      <th>a</th>\n",
       "      <th>b</th>\n",
       "      <th>c</th>\n",
       "      <th>d</th>\n",
       "      <th>e</th>\n",
       "      <th>f</th>\n",
       "    </tr>\n",
       "  </thead>\n",
       "  <tbody>\n",
       "    <tr>\n",
       "      <th>0</th>\n",
       "      <td>0.205276</td>\n",
       "      <td>0.332215</td>\n",
       "      <td>0.293063</td>\n",
       "      <td>0.962412</td>\n",
       "      <td>0.235004</td>\n",
       "      <td>0.424549</td>\n",
       "    </tr>\n",
       "    <tr>\n",
       "      <th>1</th>\n",
       "      <td>0.485825</td>\n",
       "      <td>0.691176</td>\n",
       "      <td>0.969973</td>\n",
       "      <td>0.613931</td>\n",
       "      <td>0.860611</td>\n",
       "      <td>0.131427</td>\n",
       "    </tr>\n",
       "    <tr>\n",
       "      <th>2</th>\n",
       "      <td>0.661392</td>\n",
       "      <td>0.172424</td>\n",
       "      <td>0.871290</td>\n",
       "      <td>0.595554</td>\n",
       "      <td>0.136197</td>\n",
       "      <td>0.850109</td>\n",
       "    </tr>\n",
       "    <tr>\n",
       "      <th>3</th>\n",
       "      <td>0.524996</td>\n",
       "      <td>0.485601</td>\n",
       "      <td>0.081173</td>\n",
       "      <td>0.906935</td>\n",
       "      <td>0.513884</td>\n",
       "      <td>0.864574</td>\n",
       "    </tr>\n",
       "    <tr>\n",
       "      <th>4</th>\n",
       "      <td>0.075251</td>\n",
       "      <td>0.679681</td>\n",
       "      <td>0.375472</td>\n",
       "      <td>0.536589</td>\n",
       "      <td>0.624309</td>\n",
       "      <td>0.825783</td>\n",
       "    </tr>\n",
       "  </tbody>\n",
       "</table>\n",
       "</div>"
      ],
      "text/plain": [
       "          a         b         c         d         e         f\n",
       "0  0.205276  0.332215  0.293063  0.962412  0.235004  0.424549\n",
       "1  0.485825  0.691176  0.969973  0.613931  0.860611  0.131427\n",
       "2  0.661392  0.172424  0.871290  0.595554  0.136197  0.850109\n",
       "3  0.524996  0.485601  0.081173  0.906935  0.513884  0.864574\n",
       "4  0.075251  0.679681  0.375472  0.536589  0.624309  0.825783"
      ]
     },
     "execution_count": 73,
     "metadata": {},
     "output_type": "execute_result"
    }
   ],
   "source": [
    "df.head()"
   ]
  },
  {
   "cell_type": "markdown",
   "id": "135949c9",
   "metadata": {},
   "source": [
    "How much memory does this 10 million entries databes use? we can see it through a function"
   ]
  },
  {
   "cell_type": "code",
   "execution_count": 74,
   "id": "931f0293",
   "metadata": {},
   "outputs": [
    {
     "name": "stdout",
     "output_type": "stream",
     "text": [
      "<class 'pandas.core.frame.DataFrame'>\n",
      "RangeIndex: 10000000 entries, 0 to 9999999\n",
      "Data columns (total 6 columns):\n",
      " #   Column  Dtype  \n",
      "---  ------  -----  \n",
      " 0   a       float64\n",
      " 1   b       float64\n",
      " 2   c       float64\n",
      " 3   d       float64\n",
      " 4   e       float64\n",
      " 5   f       float64\n",
      "dtypes: float64(6)\n",
      "memory usage: 457.8 MB\n"
     ]
    }
   ],
   "source": [
    "df.info(memory_usage=\"deep\")"
   ]
  },
  {
   "cell_type": "markdown",
   "id": "f5129006",
   "metadata": {},
   "source": [
    "it uses an insane amount of memory"
   ]
  },
  {
   "cell_type": "markdown",
   "id": "d63bc814",
   "metadata": {},
   "source": [
    "## Subsampling"
   ]
  },
  {
   "cell_type": "code",
   "execution_count": 75,
   "id": "98de2133",
   "metadata": {},
   "outputs": [],
   "source": [
    "data = rng.random((10_000_000, 6))\n",
    "df = pd.DataFrame(data, columns=list(\"abcdef\"))"
   ]
  },
  {
   "cell_type": "code",
   "execution_count": 76,
   "id": "ba1a8781",
   "metadata": {},
   "outputs": [
    {
     "data": {
      "text/html": [
       "<div>\n",
       "<style scoped>\n",
       "    .dataframe tbody tr th:only-of-type {\n",
       "        vertical-align: middle;\n",
       "    }\n",
       "\n",
       "    .dataframe tbody tr th {\n",
       "        vertical-align: top;\n",
       "    }\n",
       "\n",
       "    .dataframe thead th {\n",
       "        text-align: right;\n",
       "    }\n",
       "</style>\n",
       "<table border=\"1\" class=\"dataframe\">\n",
       "  <thead>\n",
       "    <tr style=\"text-align: right;\">\n",
       "      <th></th>\n",
       "      <th>a</th>\n",
       "      <th>b</th>\n",
       "      <th>c</th>\n",
       "      <th>d</th>\n",
       "      <th>e</th>\n",
       "      <th>f</th>\n",
       "    </tr>\n",
       "  </thead>\n",
       "  <tbody>\n",
       "    <tr>\n",
       "      <th>0</th>\n",
       "      <td>0.406278</td>\n",
       "      <td>0.484189</td>\n",
       "      <td>0.546999</td>\n",
       "      <td>0.832098</td>\n",
       "      <td>0.494845</td>\n",
       "      <td>0.345984</td>\n",
       "    </tr>\n",
       "    <tr>\n",
       "      <th>1</th>\n",
       "      <td>0.122239</td>\n",
       "      <td>0.125270</td>\n",
       "      <td>0.867080</td>\n",
       "      <td>0.247132</td>\n",
       "      <td>0.379205</td>\n",
       "      <td>0.420164</td>\n",
       "    </tr>\n",
       "    <tr>\n",
       "      <th>2</th>\n",
       "      <td>0.757989</td>\n",
       "      <td>0.198222</td>\n",
       "      <td>0.733716</td>\n",
       "      <td>0.189538</td>\n",
       "      <td>0.619230</td>\n",
       "      <td>0.093410</td>\n",
       "    </tr>\n",
       "    <tr>\n",
       "      <th>3</th>\n",
       "      <td>0.889991</td>\n",
       "      <td>0.956499</td>\n",
       "      <td>0.215857</td>\n",
       "      <td>0.098111</td>\n",
       "      <td>0.483003</td>\n",
       "      <td>0.674308</td>\n",
       "    </tr>\n",
       "  </tbody>\n",
       "</table>\n",
       "</div>"
      ],
      "text/plain": [
       "          a         b         c         d         e         f\n",
       "0  0.406278  0.484189  0.546999  0.832098  0.494845  0.345984\n",
       "1  0.122239  0.125270  0.867080  0.247132  0.379205  0.420164\n",
       "2  0.757989  0.198222  0.733716  0.189538  0.619230  0.093410\n",
       "3  0.889991  0.956499  0.215857  0.098111  0.483003  0.674308"
      ]
     },
     "execution_count": 76,
     "metadata": {},
     "output_type": "execute_result"
    }
   ],
   "source": [
    "df.head(4)"
   ]
  },
  {
   "cell_type": "code",
   "execution_count": 79,
   "id": "090ae5e0",
   "metadata": {},
   "outputs": [
    {
     "data": {
      "text/html": [
       "<div>\n",
       "<style scoped>\n",
       "    .dataframe tbody tr th:only-of-type {\n",
       "        vertical-align: middle;\n",
       "    }\n",
       "\n",
       "    .dataframe tbody tr th {\n",
       "        vertical-align: top;\n",
       "    }\n",
       "\n",
       "    .dataframe thead th {\n",
       "        text-align: right;\n",
       "    }\n",
       "</style>\n",
       "<table border=\"1\" class=\"dataframe\">\n",
       "  <thead>\n",
       "    <tr style=\"text-align: right;\">\n",
       "      <th></th>\n",
       "      <th>a</th>\n",
       "      <th>b</th>\n",
       "      <th>c</th>\n",
       "      <th>d</th>\n",
       "      <th>e</th>\n",
       "      <th>f</th>\n",
       "    </tr>\n",
       "  </thead>\n",
       "  <tbody>\n",
       "    <tr>\n",
       "      <th>919213</th>\n",
       "      <td>0.917954</td>\n",
       "      <td>0.874484</td>\n",
       "      <td>0.068058</td>\n",
       "      <td>0.603029</td>\n",
       "      <td>0.575649</td>\n",
       "      <td>0.909539</td>\n",
       "    </tr>\n",
       "    <tr>\n",
       "      <th>9467153</th>\n",
       "      <td>0.276973</td>\n",
       "      <td>0.256073</td>\n",
       "      <td>0.156506</td>\n",
       "      <td>0.482537</td>\n",
       "      <td>0.411133</td>\n",
       "      <td>0.386009</td>\n",
       "    </tr>\n",
       "    <tr>\n",
       "      <th>6585777</th>\n",
       "      <td>0.202815</td>\n",
       "      <td>0.226545</td>\n",
       "      <td>0.558463</td>\n",
       "      <td>0.867019</td>\n",
       "      <td>0.649226</td>\n",
       "      <td>0.996379</td>\n",
       "    </tr>\n",
       "    <tr>\n",
       "      <th>3878022</th>\n",
       "      <td>0.840373</td>\n",
       "      <td>0.048461</td>\n",
       "      <td>0.927104</td>\n",
       "      <td>0.849678</td>\n",
       "      <td>0.391977</td>\n",
       "      <td>0.023459</td>\n",
       "    </tr>\n",
       "    <tr>\n",
       "      <th>5537116</th>\n",
       "      <td>0.560336</td>\n",
       "      <td>0.417161</td>\n",
       "      <td>0.730034</td>\n",
       "      <td>0.834796</td>\n",
       "      <td>0.001392</td>\n",
       "      <td>0.048669</td>\n",
       "    </tr>\n",
       "    <tr>\n",
       "      <th>...</th>\n",
       "      <td>...</td>\n",
       "      <td>...</td>\n",
       "      <td>...</td>\n",
       "      <td>...</td>\n",
       "      <td>...</td>\n",
       "      <td>...</td>\n",
       "    </tr>\n",
       "    <tr>\n",
       "      <th>3553239</th>\n",
       "      <td>0.794497</td>\n",
       "      <td>0.076135</td>\n",
       "      <td>0.452278</td>\n",
       "      <td>0.744491</td>\n",
       "      <td>0.681541</td>\n",
       "      <td>0.579040</td>\n",
       "    </tr>\n",
       "    <tr>\n",
       "      <th>1662635</th>\n",
       "      <td>0.350744</td>\n",
       "      <td>0.618511</td>\n",
       "      <td>0.959476</td>\n",
       "      <td>0.707307</td>\n",
       "      <td>0.451088</td>\n",
       "      <td>0.966552</td>\n",
       "    </tr>\n",
       "    <tr>\n",
       "      <th>2362261</th>\n",
       "      <td>0.156542</td>\n",
       "      <td>0.517206</td>\n",
       "      <td>0.705851</td>\n",
       "      <td>0.689042</td>\n",
       "      <td>0.800490</td>\n",
       "      <td>0.536671</td>\n",
       "    </tr>\n",
       "    <tr>\n",
       "      <th>7669748</th>\n",
       "      <td>0.956793</td>\n",
       "      <td>0.827968</td>\n",
       "      <td>0.928224</td>\n",
       "      <td>0.350174</td>\n",
       "      <td>0.826118</td>\n",
       "      <td>0.855817</td>\n",
       "    </tr>\n",
       "    <tr>\n",
       "      <th>2187994</th>\n",
       "      <td>0.668731</td>\n",
       "      <td>0.007401</td>\n",
       "      <td>0.542611</td>\n",
       "      <td>0.393539</td>\n",
       "      <td>0.309538</td>\n",
       "      <td>0.846115</td>\n",
       "    </tr>\n",
       "  </tbody>\n",
       "</table>\n",
       "<p>1000000 rows × 6 columns</p>\n",
       "</div>"
      ],
      "text/plain": [
       "                a         b         c         d         e         f\n",
       "919213   0.917954  0.874484  0.068058  0.603029  0.575649  0.909539\n",
       "9467153  0.276973  0.256073  0.156506  0.482537  0.411133  0.386009\n",
       "6585777  0.202815  0.226545  0.558463  0.867019  0.649226  0.996379\n",
       "3878022  0.840373  0.048461  0.927104  0.849678  0.391977  0.023459\n",
       "5537116  0.560336  0.417161  0.730034  0.834796  0.001392  0.048669\n",
       "...           ...       ...       ...       ...       ...       ...\n",
       "3553239  0.794497  0.076135  0.452278  0.744491  0.681541  0.579040\n",
       "1662635  0.350744  0.618511  0.959476  0.707307  0.451088  0.966552\n",
       "2362261  0.156542  0.517206  0.705851  0.689042  0.800490  0.536671\n",
       "7669748  0.956793  0.827968  0.928224  0.350174  0.826118  0.855817\n",
       "2187994  0.668731  0.007401  0.542611  0.393539  0.309538  0.846115\n",
       "\n",
       "[1000000 rows x 6 columns]"
      ]
     },
     "execution_count": 79,
     "metadata": {},
     "output_type": "execute_result"
    }
   ],
   "source": [
    "subsample = df.sample(frac=0.1, random_state=42)\n",
    "subsample"
   ]
  },
  {
   "cell_type": "markdown",
   "id": "d234246c",
   "metadata": {},
   "source": [
    "we created a subsample because the dataset was huge. We decided to use the 10% (frac=0.1) of the datasemple, pull out randomly. the function subsample does NOT modify the original dataframe.\n",
    "The sample is now randomly mixed up"
   ]
  },
  {
   "cell_type": "code",
   "execution_count": 80,
   "id": "d36885e6",
   "metadata": {},
   "outputs": [
    {
     "data": {
      "text/html": [
       "<div>\n",
       "<style scoped>\n",
       "    .dataframe tbody tr th:only-of-type {\n",
       "        vertical-align: middle;\n",
       "    }\n",
       "\n",
       "    .dataframe tbody tr th {\n",
       "        vertical-align: top;\n",
       "    }\n",
       "\n",
       "    .dataframe thead th {\n",
       "        text-align: right;\n",
       "    }\n",
       "</style>\n",
       "<table border=\"1\" class=\"dataframe\">\n",
       "  <thead>\n",
       "    <tr style=\"text-align: right;\">\n",
       "      <th></th>\n",
       "      <th>a</th>\n",
       "      <th>b</th>\n",
       "      <th>c</th>\n",
       "      <th>d</th>\n",
       "      <th>e</th>\n",
       "      <th>f</th>\n",
       "    </tr>\n",
       "  </thead>\n",
       "  <tbody>\n",
       "    <tr>\n",
       "      <th>0</th>\n",
       "      <td>0.406278</td>\n",
       "      <td>0.484189</td>\n",
       "      <td>0.546999</td>\n",
       "      <td>0.832098</td>\n",
       "      <td>0.494845</td>\n",
       "      <td>0.345984</td>\n",
       "    </tr>\n",
       "    <tr>\n",
       "      <th>1</th>\n",
       "      <td>0.122239</td>\n",
       "      <td>0.125270</td>\n",
       "      <td>0.867080</td>\n",
       "      <td>0.247132</td>\n",
       "      <td>0.379205</td>\n",
       "      <td>0.420164</td>\n",
       "    </tr>\n",
       "    <tr>\n",
       "      <th>3</th>\n",
       "      <td>0.889991</td>\n",
       "      <td>0.956499</td>\n",
       "      <td>0.215857</td>\n",
       "      <td>0.098111</td>\n",
       "      <td>0.483003</td>\n",
       "      <td>0.674308</td>\n",
       "    </tr>\n",
       "    <tr>\n",
       "      <th>4</th>\n",
       "      <td>0.417137</td>\n",
       "      <td>0.586766</td>\n",
       "      <td>0.319208</td>\n",
       "      <td>0.021466</td>\n",
       "      <td>0.710544</td>\n",
       "      <td>0.009521</td>\n",
       "    </tr>\n",
       "    <tr>\n",
       "      <th>5</th>\n",
       "      <td>0.292761</td>\n",
       "      <td>0.562650</td>\n",
       "      <td>0.528072</td>\n",
       "      <td>0.745144</td>\n",
       "      <td>0.123438</td>\n",
       "      <td>0.490891</td>\n",
       "    </tr>\n",
       "    <tr>\n",
       "      <th>...</th>\n",
       "      <td>...</td>\n",
       "      <td>...</td>\n",
       "      <td>...</td>\n",
       "      <td>...</td>\n",
       "      <td>...</td>\n",
       "      <td>...</td>\n",
       "    </tr>\n",
       "    <tr>\n",
       "      <th>9999995</th>\n",
       "      <td>0.015463</td>\n",
       "      <td>0.168677</td>\n",
       "      <td>0.545157</td>\n",
       "      <td>0.709029</td>\n",
       "      <td>0.314902</td>\n",
       "      <td>0.131613</td>\n",
       "    </tr>\n",
       "    <tr>\n",
       "      <th>9999996</th>\n",
       "      <td>0.533756</td>\n",
       "      <td>0.576048</td>\n",
       "      <td>0.695440</td>\n",
       "      <td>0.772718</td>\n",
       "      <td>0.943654</td>\n",
       "      <td>0.697988</td>\n",
       "    </tr>\n",
       "    <tr>\n",
       "      <th>9999997</th>\n",
       "      <td>0.257426</td>\n",
       "      <td>0.435192</td>\n",
       "      <td>0.267356</td>\n",
       "      <td>0.149986</td>\n",
       "      <td>0.330854</td>\n",
       "      <td>0.453730</td>\n",
       "    </tr>\n",
       "    <tr>\n",
       "      <th>9999998</th>\n",
       "      <td>0.807411</td>\n",
       "      <td>0.222648</td>\n",
       "      <td>0.713685</td>\n",
       "      <td>0.818017</td>\n",
       "      <td>0.053508</td>\n",
       "      <td>0.186825</td>\n",
       "    </tr>\n",
       "    <tr>\n",
       "      <th>9999999</th>\n",
       "      <td>0.526078</td>\n",
       "      <td>0.278743</td>\n",
       "      <td>0.887668</td>\n",
       "      <td>0.695424</td>\n",
       "      <td>0.460001</td>\n",
       "      <td>0.570570</td>\n",
       "    </tr>\n",
       "  </tbody>\n",
       "</table>\n",
       "<p>9000000 rows × 6 columns</p>\n",
       "</div>"
      ],
      "text/plain": [
       "                a         b         c         d         e         f\n",
       "0        0.406278  0.484189  0.546999  0.832098  0.494845  0.345984\n",
       "1        0.122239  0.125270  0.867080  0.247132  0.379205  0.420164\n",
       "3        0.889991  0.956499  0.215857  0.098111  0.483003  0.674308\n",
       "4        0.417137  0.586766  0.319208  0.021466  0.710544  0.009521\n",
       "5        0.292761  0.562650  0.528072  0.745144  0.123438  0.490891\n",
       "...           ...       ...       ...       ...       ...       ...\n",
       "9999995  0.015463  0.168677  0.545157  0.709029  0.314902  0.131613\n",
       "9999996  0.533756  0.576048  0.695440  0.772718  0.943654  0.697988\n",
       "9999997  0.257426  0.435192  0.267356  0.149986  0.330854  0.453730\n",
       "9999998  0.807411  0.222648  0.713685  0.818017  0.053508  0.186825\n",
       "9999999  0.526078  0.278743  0.887668  0.695424  0.460001  0.570570\n",
       "\n",
       "[9000000 rows x 6 columns]"
      ]
     },
     "execution_count": 80,
     "metadata": {},
     "output_type": "execute_result"
    }
   ],
   "source": [
    "remaining = df.drop(subsample.index)\n",
    "remaining"
   ]
  },
  {
   "cell_type": "markdown",
   "id": "3c31fc6a",
   "metadata": {},
   "source": [
    "Here we have the remaining rows that we eliminated from the subsample"
   ]
  },
  {
   "cell_type": "code",
   "execution_count": null,
   "id": "b53fabbd",
   "metadata": {},
   "outputs": [],
   "source": []
  }
 ],
 "metadata": {
  "kernelspec": {
   "display_name": "Python 3",
   "language": "python",
   "name": "python3"
  },
  "language_info": {
   "codemirror_mode": {
    "name": "ipython",
    "version": 3
   },
   "file_extension": ".py",
   "mimetype": "text/x-python",
   "name": "python",
   "nbconvert_exporter": "python",
   "pygments_lexer": "ipython3",
   "version": "3.8.8"
  }
 },
 "nbformat": 4,
 "nbformat_minor": 5
}

{
 "cells": [
  {
   "cell_type": "markdown",
   "id": "32a50d05",
   "metadata": {},
   "source": [
    "# Excercises"
   ]
  },
  {
   "cell_type": "code",
   "execution_count": 25,
   "id": "08c19155",
   "metadata": {},
   "outputs": [],
   "source": [
    "import numpy as np"
   ]
  },
  {
   "cell_type": "code",
   "execution_count": 78,
   "id": "9c9fd42d",
   "metadata": {},
   "outputs": [],
   "source": [
    "rng = np.random.default_rng(42)  # always create a generator with a seed!"
   ]
  },
  {
   "cell_type": "markdown",
   "id": "54cda658",
   "metadata": {},
   "source": [
    "### 1. Extract the integer part of a random sample"
   ]
  },
  {
   "cell_type": "code",
   "execution_count": 24,
   "id": "27065ad7",
   "metadata": {},
   "outputs": [
    {
     "data": {
      "text/plain": [
       "array([[4.41317027, 6.18389202, 4.19514485],\n",
       "       [6.51427939, 3.77620491, 8.1470259 ]])"
      ]
     },
     "execution_count": 24,
     "metadata": {},
     "output_type": "execute_result"
    }
   ],
   "source": [
    "rng = 10*np.random.rand(2,3)\n",
    "rng"
   ]
  },
  {
   "cell_type": "code",
   "execution_count": 23,
   "id": "0654f83d",
   "metadata": {},
   "outputs": [
    {
     "data": {
      "text/plain": [
       "array([[5, 0, 6],\n",
       "       [6, 1, 7]])"
      ]
     },
     "execution_count": 23,
     "metadata": {},
     "output_type": "execute_result"
    }
   ],
   "source": [
    "np.array (rng, dtype = \"int\")"
   ]
  },
  {
   "cell_type": "markdown",
   "id": "d25dec7b",
   "metadata": {},
   "source": [
    "### 2. Create a 5x5 matrix woth 5 on the diagonal"
   ]
  },
  {
   "cell_type": "code",
   "execution_count": 26,
   "id": "00a9cbca",
   "metadata": {},
   "outputs": [
    {
     "data": {
      "text/plain": [
       "array([[5., 0., 0., 0., 0.],\n",
       "       [0., 5., 0., 0., 0.],\n",
       "       [0., 0., 5., 0., 0.],\n",
       "       [0., 0., 0., 5., 0.],\n",
       "       [0., 0., 0., 0., 5.]])"
      ]
     },
     "execution_count": 26,
     "metadata": {},
     "output_type": "execute_result"
    }
   ],
   "source": [
    "5*np.eye(5,5)"
   ]
  },
  {
   "cell_type": "markdown",
   "id": "a47fcb0c",
   "metadata": {},
   "source": [
    "### 3. Calculate c\n",
    "a=rng.random(1234567)\n",
    "\n",
    "b=rng.random(1234567)\n",
    "\n",
    "c_i=tan(a_i)\\cdot b_i-a_i^{b_i}\n",
    "\n",
    "for i in [0,1234566]"
   ]
  },
  {
   "cell_type": "code",
   "execution_count": 28,
   "id": "1468f13f",
   "metadata": {},
   "outputs": [],
   "source": [
    "rng = np.random.default_rng(42)"
   ]
  },
  {
   "cell_type": "code",
   "execution_count": 31,
   "id": "2b942681",
   "metadata": {},
   "outputs": [
    {
     "data": {
      "text/plain": [
       "array([0.51006671, 0.94888277, 0.09569171, ..., 0.20594585, 0.81570642,\n",
       "       0.48265836])"
      ]
     },
     "execution_count": 31,
     "metadata": {},
     "output_type": "execute_result"
    }
   ],
   "source": [
    "a=rng.random(1234567)\n",
    "b=rng.random(1234567)\n",
    "a"
   ]
  },
  {
   "cell_type": "code",
   "execution_count": 33,
   "id": "4a8bcffc",
   "metadata": {},
   "outputs": [
    {
     "name": "stdout",
     "output_type": "stream",
     "text": [
      "[-0.94251216 -0.68564223 -0.5926123  ... -0.22784624  0.05748215\n",
      " -0.27970023]\n"
     ]
    }
   ],
   "source": [
    "c = np.tan(a)*b-a**b\n",
    "print(c)"
   ]
  },
  {
   "cell_type": "markdown",
   "id": "4a5f70ef",
   "metadata": {},
   "source": [
    "\n",
    "### 4. Given two arrays a anb b, check if they are equal\n",
    "\n",
    "a = rng.random(1234567)\n",
    "\n",
    "b = a.copy()\n",
    "\n",
    "b[-1] = 23  # artificially make them differ at the very end ;)\n",
    "\n"
   ]
  },
  {
   "cell_type": "code",
   "execution_count": 35,
   "id": "d882a6a2",
   "metadata": {},
   "outputs": [
    {
     "data": {
      "text/plain": [
       "array([ True,  True,  True, ...,  True,  True,  True])"
      ]
     },
     "execution_count": 35,
     "metadata": {},
     "output_type": "execute_result"
    }
   ],
   "source": [
    "a = rng.random(1234567)\n",
    "b = a.copy()\n",
    "a==b"
   ]
  },
  {
   "cell_type": "code",
   "execution_count": 36,
   "id": "b653d5b5",
   "metadata": {},
   "outputs": [
    {
     "data": {
      "text/plain": [
       "array([ True,  True,  True, ...,  True,  True, False])"
      ]
     },
     "execution_count": 36,
     "metadata": {},
     "output_type": "execute_result"
    }
   ],
   "source": [
    "b[-1] = 23\n",
    "a==b"
   ]
  },
  {
   "cell_type": "markdown",
   "id": "aa8a95fd",
   "metadata": {},
   "source": [
    "\n",
    "### 5. Create the following matrix\n",
    "\n",
    "1 2 3 4 5 6\n",
    "\n",
    "1 2 3 4 5 6\n",
    "\n",
    "1 2 3 4 5 6\n",
    "\n",
    "1 2 3 4 5 6\n",
    "\n",
    "1 2 3 4 5 6\n",
    "\n"
   ]
  },
  {
   "cell_type": "code",
   "execution_count": 39,
   "id": "c27ae9b5",
   "metadata": {},
   "outputs": [
    {
     "data": {
      "text/plain": [
       "array([[1., 2., 3., 4., 5., 6.],\n",
       "       [1., 2., 3., 4., 5., 6.],\n",
       "       [1., 2., 3., 4., 5., 6.],\n",
       "       [1., 2., 3., 4., 5., 6.],\n",
       "       [1., 2., 3., 4., 5., 6.]])"
      ]
     },
     "execution_count": 39,
     "metadata": {},
     "output_type": "execute_result"
    }
   ],
   "source": [
    "a = np.ones((5,6))\n",
    "b=np.array([1,2,3,4,5,6])\n",
    "a*b"
   ]
  },
  {
   "cell_type": "markdown",
   "id": "e9f3f6fd",
   "metadata": {},
   "source": [
    "### 6. Roll two 6-sided dice 100 times and count each individual value"
   ]
  },
  {
   "cell_type": "code",
   "execution_count": 74,
   "id": "6dd63b77",
   "metadata": {},
   "outputs": [
    {
     "name": "stdout",
     "output_type": "stream",
     "text": [
      "[6 4 5 5 4 3 1 2 2 6 5 6 3 2 3 2 3 1 5 5 2 4 2 4 5 1 2 6 4 3 5 6 2 4 6 1 5\n",
      " 6 5 1 6 2 6 1 1 6 5 6 4 4 4 6 2 4 5 3 3 1 2 3 6 3 3 6 3 3 3 2 2 6 3 6 6 5\n",
      " 2 4 2 4 5 4 5 5 6 5 1 6 2 2 6 1 1 6 6 2 5 2 3 4 4 1]\n",
      "[6 3 3 6 5 5 3 5 6 2 2 6 1 1 3 5 1 1 5 5 6 3 1 2 1 6 6 6 4 1 5 1 5 5 5 1 1\n",
      " 6 4 4 1 4 3 4 5 6 2 4 1 6 3 6 6 4 6 2 2 2 3 2 4 3 1 4 2 1 4 2 6 1 2 4 5 4\n",
      " 4 3 1 2 6 2 2 3 4 5 6 6 3 4 4 5 6 5 2 5 1 3 1 2 1 2]\n"
     ]
    }
   ],
   "source": [
    "a = np.random.randint(1, 7, 100)    #returns 100 random integers in interval [1,7)\n",
    "b = np.random.randint(1, 7, 100)\n",
    "print(a)\n",
    "print(b)"
   ]
  },
  {
   "cell_type": "markdown",
   "id": "3f25b2f0",
   "metadata": {},
   "source": [
    "### 7. Roll five 12-sided dice 123456 times and count each individual value"
   ]
  },
  {
   "cell_type": "code",
   "execution_count": 75,
   "id": "73b87132",
   "metadata": {},
   "outputs": [
    {
     "name": "stdout",
     "output_type": "stream",
     "text": [
      "[ 3  2 11 ... 12 10  7]\n",
      "[12  7 10 ...  2  7  2]\n",
      "[ 8  3  3 ... 11  6 10]\n",
      "[11 11  2 ... 10  9  3]\n",
      "[9 1 6 ... 6 5 6]\n"
     ]
    }
   ],
   "source": [
    "a = np.random.randint(1, 13, 123456)    #returns 100 random integers in interval [1,7)\n",
    "b = np.random.randint(1, 13, 123456)\n",
    "c = np.random.randint(1, 13, 123456)\n",
    "d = np.random.randint(1, 13, 123456)\n",
    "e = np.random.randint(1, 13, 123456)\n",
    "\n",
    "print(a)\n",
    "print(b)\n",
    "print(c)\n",
    "print(d)\n",
    "print(e)"
   ]
  },
  {
   "cell_type": "markdown",
   "id": "e93d3f81",
   "metadata": {},
   "source": [
    "Alternatively, try a for loop"
   ]
  },
  {
   "cell_type": "code",
   "execution_count": 77,
   "id": "b9c11f57",
   "metadata": {},
   "outputs": [
    {
     "name": "stdout",
     "output_type": "stream",
     "text": [
      "[ 7  1  4 ... 10  3 12]\n",
      "[ 4  7  3 ...  2  9 10]\n",
      "[ 4  4 12 ...  1  1  6]\n",
      "[ 5  9 11 ...  1  6  9]\n",
      "[12  6  9 ...  3  7 10]\n"
     ]
    }
   ],
   "source": [
    "for i in range(5):\n",
    "    a = np.random.randint(1,13,123456)\n",
    "    print(a)"
   ]
  },
  {
   "cell_type": "markdown",
   "id": "531920ae",
   "metadata": {},
   "source": [
    "### 8. Find the value closest to a given number in an array\n",
    "\n",
    "a = rng.random(10)\n",
    "\n",
    "target = 0.23\n",
    "\n"
   ]
  },
  {
   "cell_type": "code",
   "execution_count": 80,
   "id": "a226aa33",
   "metadata": {},
   "outputs": [
    {
     "data": {
      "text/plain": [
       "array([0.37079802, 0.92676499, 0.64386512, 0.82276161, 0.4434142 ,\n",
       "       0.22723872, 0.55458479, 0.06381726, 0.82763117, 0.6316644 ])"
      ]
     },
     "execution_count": 80,
     "metadata": {},
     "output_type": "execute_result"
    }
   ],
   "source": [
    "a = rng.random(10)\n",
    "target = 0.23\n",
    "a"
   ]
  },
  {
   "cell_type": "code",
   "execution_count": 85,
   "id": "a257ed0e",
   "metadata": {},
   "outputs": [
    {
     "data": {
      "text/plain": [
       "0.002761278215223123"
      ]
     },
     "execution_count": 85,
     "metadata": {},
     "output_type": "execute_result"
    }
   ],
   "source": [
    "diff = np.absolute(a -target)\n",
    "diff.min()"
   ]
  },
  {
   "cell_type": "markdown",
   "id": "5eb68cc4",
   "metadata": {},
   "source": [
    "### 9. Create a random array with 10 elements and replace its largest value with 0 "
   ]
  },
  {
   "cell_type": "code",
   "execution_count": 99,
   "id": "d2937a50",
   "metadata": {},
   "outputs": [
    {
     "data": {
      "text/plain": [
       "array([0.1523121 , 0.69632038, 0.44615628, 0.38102123, 0.30151209,\n",
       "       0.63028259, 0.36181261, 0.08764992, 0.1180059 , 0.96189766])"
      ]
     },
     "execution_count": 99,
     "metadata": {},
     "output_type": "execute_result"
    }
   ],
   "source": [
    "a = rng.random(10)\n",
    "a\n"
   ]
  },
  {
   "cell_type": "code",
   "execution_count": 100,
   "id": "d8be9f06",
   "metadata": {},
   "outputs": [
    {
     "data": {
      "text/plain": [
       "array([0.1523121 , 0.69632038, 0.44615628, 0.38102123, 0.30151209,\n",
       "       0.63028259, 0.36181261, 0.08764992, 0.1180059 , 0.        ])"
      ]
     },
     "execution_count": 100,
     "metadata": {},
     "output_type": "execute_result"
    }
   ],
   "source": [
    "a[np.argmax(a)]=0\n",
    "a"
   ]
  },
  {
   "cell_type": "code",
   "execution_count": 101,
   "id": "6063895c",
   "metadata": {},
   "outputs": [
    {
     "data": {
      "text/plain": [
       "array([0.1523121 , 0.        , 0.44615628, 0.38102123, 0.30151209,\n",
       "       0.63028259, 0.36181261, 0.08764992, 0.1180059 , 0.        ])"
      ]
     },
     "execution_count": 101,
     "metadata": {},
     "output_type": "execute_result"
    }
   ],
   "source": [
    "a[np.argmax(a)]=0\n",
    "a"
   ]
  },
  {
   "cell_type": "markdown",
   "id": "8cdacaa3",
   "metadata": {},
   "source": [
    "### 10. Create a checkerboard (8x8, 0s and 1s)¶\n",
    "\n",
    "0 1 0 1 0 1 0 1\n",
    "\n",
    "1 0 1 0 1 0 1 0\n",
    "\n",
    "0 1 0 1 0 1 0 1\n",
    "\n",
    "1 0 1 0 1 0 1 0\n",
    "\n",
    "0 1 0 1 0 1 0 1\n",
    "\n",
    "1 0 1 0 1 0 1 0\n",
    "\n",
    "0 1 0 1 0 1 0 1\n",
    "\n",
    "1 0 1 0 1 0 1 0\n",
    "\n"
   ]
  },
  {
   "cell_type": "code",
   "execution_count": 106,
   "id": "36c30e28",
   "metadata": {},
   "outputs": [
    {
     "data": {
      "text/plain": [
       "([0, 1, 0, 1, 0, 1, 0, 1],\n",
       " [1, 0, 1, 0, 1, 0, 1, 0],\n",
       " [0, 1, 0, 1, 0, 1, 0, 1],\n",
       " [1, 0, 1, 0, 1, 0, 1, 0],\n",
       " [0, 1, 0, 1, 0, 1, 0, 1],\n",
       " [1, 0, 1, 0, 1, 0, 1, 0],\n",
       " [0, 1, 0, 1, 0, 1, 0, 1],\n",
       " [1, 0, 1, 0, 1, 0, 1, 0])"
      ]
     },
     "execution_count": 106,
     "metadata": {},
     "output_type": "execute_result"
    }
   ],
   "source": [
    "a = [0,1,0,1,0,1,0,1]\n",
    "b = [1,0,1,0,1,0,1,0]\n",
    "checkboard = (a,b,a,b,a,b,a,b)\n",
    "checkboard"
   ]
  },
  {
   "cell_type": "markdown",
   "id": "14553646",
   "metadata": {},
   "source": [
    "### 11. Calculate the diagonal of a dot product"
   ]
  },
  {
   "cell_type": "markdown",
   "id": "e38fe176",
   "metadata": {},
   "source": [
    "## Nearest point excercise\n",
    "Given an array of points in 3D, find the nearest point for each one"
   ]
  },
  {
   "cell_type": "code",
   "execution_count": null,
   "id": "11ff12cf",
   "metadata": {},
   "outputs": [],
   "source": []
  }
 ],
 "metadata": {
  "kernelspec": {
   "display_name": "Python 3",
   "language": "python",
   "name": "python3"
  },
  "language_info": {
   "codemirror_mode": {
    "name": "ipython",
    "version": 3
   },
   "file_extension": ".py",
   "mimetype": "text/x-python",
   "name": "python",
   "nbconvert_exporter": "python",
   "pygments_lexer": "ipython3",
   "version": "3.8.8"
  }
 },
 "nbformat": 4,
 "nbformat_minor": 5
}
